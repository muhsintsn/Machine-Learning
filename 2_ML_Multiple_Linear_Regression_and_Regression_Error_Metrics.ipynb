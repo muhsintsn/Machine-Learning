{
  "cells": [
    {
      "cell_type": "markdown",
      "metadata": {
        "id": "view-in-github",
        "colab_type": "text"
      },
      "source": [
        "<a href=\"https://colab.research.google.com/github/muhsintsn/Machine-Learning/blob/main/2_ML_Multiple_Linear_Regression_and_Regression_Error_Metrics.ipynb\" target=\"_parent\"><img src=\"https://colab.research.google.com/assets/colab-badge.svg\" alt=\"Open In Colab\"/></a>"
      ]
    },
    {
      "cell_type": "markdown",
      "id": "9b31904c",
      "metadata": {
        "id": "9b31904c"
      },
      "source": [
        "## Multiple Linear Regression and Regression Error Metrics\n"
      ]
    },
    {
      "cell_type": "code",
      "execution_count": null,
      "id": "698d2922",
      "metadata": {
        "id": "698d2922"
      },
      "outputs": [],
      "source": [
        "import numpy as np\n",
        "import pandas as pd\n",
        "import matplotlib.pyplot as plt\n",
        "import seaborn as sns\n",
        "import scipy.stats as stats\n",
        "plt.rcParams[\"figure.figsize\"] = (10,6)\n",
        "import warnings\n",
        "warnings.filterwarnings('ignore')"
      ]
    },
    {
      "cell_type": "code",
      "execution_count": null,
      "id": "ae71597b",
      "metadata": {
        "id": "ae71597b",
        "outputId": "9a6b1e1c-bbf8-4663-8cf8-9df51172f3a4"
      },
      "outputs": [
        {
          "data": {
            "text/html": [
              "<div>\n",
              "<style scoped>\n",
              "    .dataframe tbody tr th:only-of-type {\n",
              "        vertical-align: middle;\n",
              "    }\n",
              "\n",
              "    .dataframe tbody tr th {\n",
              "        vertical-align: top;\n",
              "    }\n",
              "\n",
              "    .dataframe thead th {\n",
              "        text-align: right;\n",
              "    }\n",
              "</style>\n",
              "<table border=\"1\" class=\"dataframe\">\n",
              "  <thead>\n",
              "    <tr style=\"text-align: right;\">\n",
              "      <th></th>\n",
              "      <th>TV</th>\n",
              "      <th>radio</th>\n",
              "      <th>newspaper</th>\n",
              "      <th>sales</th>\n",
              "    </tr>\n",
              "  </thead>\n",
              "  <tbody>\n",
              "    <tr>\n",
              "      <th>0</th>\n",
              "      <td>230.1</td>\n",
              "      <td>37.8</td>\n",
              "      <td>69.2</td>\n",
              "      <td>22.1</td>\n",
              "    </tr>\n",
              "    <tr>\n",
              "      <th>1</th>\n",
              "      <td>44.5</td>\n",
              "      <td>39.3</td>\n",
              "      <td>45.1</td>\n",
              "      <td>10.4</td>\n",
              "    </tr>\n",
              "    <tr>\n",
              "      <th>2</th>\n",
              "      <td>17.2</td>\n",
              "      <td>45.9</td>\n",
              "      <td>69.3</td>\n",
              "      <td>9.3</td>\n",
              "    </tr>\n",
              "    <tr>\n",
              "      <th>3</th>\n",
              "      <td>151.5</td>\n",
              "      <td>41.3</td>\n",
              "      <td>58.5</td>\n",
              "      <td>18.5</td>\n",
              "    </tr>\n",
              "    <tr>\n",
              "      <th>4</th>\n",
              "      <td>180.8</td>\n",
              "      <td>10.8</td>\n",
              "      <td>58.4</td>\n",
              "      <td>12.9</td>\n",
              "    </tr>\n",
              "    <tr>\n",
              "      <th>...</th>\n",
              "      <td>...</td>\n",
              "      <td>...</td>\n",
              "      <td>...</td>\n",
              "      <td>...</td>\n",
              "    </tr>\n",
              "    <tr>\n",
              "      <th>195</th>\n",
              "      <td>38.2</td>\n",
              "      <td>3.7</td>\n",
              "      <td>13.8</td>\n",
              "      <td>7.6</td>\n",
              "    </tr>\n",
              "    <tr>\n",
              "      <th>196</th>\n",
              "      <td>94.2</td>\n",
              "      <td>4.9</td>\n",
              "      <td>8.1</td>\n",
              "      <td>9.7</td>\n",
              "    </tr>\n",
              "    <tr>\n",
              "      <th>197</th>\n",
              "      <td>177.0</td>\n",
              "      <td>9.3</td>\n",
              "      <td>6.4</td>\n",
              "      <td>12.8</td>\n",
              "    </tr>\n",
              "    <tr>\n",
              "      <th>198</th>\n",
              "      <td>283.6</td>\n",
              "      <td>42.0</td>\n",
              "      <td>66.2</td>\n",
              "      <td>25.5</td>\n",
              "    </tr>\n",
              "    <tr>\n",
              "      <th>199</th>\n",
              "      <td>232.1</td>\n",
              "      <td>8.6</td>\n",
              "      <td>8.7</td>\n",
              "      <td>13.4</td>\n",
              "    </tr>\n",
              "  </tbody>\n",
              "</table>\n",
              "<p>200 rows × 4 columns</p>\n",
              "</div>"
            ],
            "text/plain": [
              "        TV  radio  newspaper  sales\n",
              "0    230.1   37.8       69.2   22.1\n",
              "1     44.5   39.3       45.1   10.4\n",
              "2     17.2   45.9       69.3    9.3\n",
              "3    151.5   41.3       58.5   18.5\n",
              "4    180.8   10.8       58.4   12.9\n",
              "..     ...    ...        ...    ...\n",
              "195   38.2    3.7       13.8    7.6\n",
              "196   94.2    4.9        8.1    9.7\n",
              "197  177.0    9.3        6.4   12.8\n",
              "198  283.6   42.0       66.2   25.5\n",
              "199  232.1    8.6        8.7   13.4\n",
              "\n",
              "[200 rows x 4 columns]"
            ]
          },
          "execution_count": 5,
          "metadata": {},
          "output_type": "execute_result"
        }
      ],
      "source": [
        "df = pd.read_csv(\"Advertising.csv\")\n",
        "df"
      ]
    },
    {
      "cell_type": "markdown",
      "id": "daecc205",
      "metadata": {
        "id": "daecc205"
      },
      "source": [
        "## Data Preparation \n"
      ]
    },
    {
      "cell_type": "code",
      "execution_count": null,
      "id": "55831fe6",
      "metadata": {
        "id": "55831fe6",
        "outputId": "7690c7c7-3e72-4649-e800-b74e9ba4b64f"
      },
      "outputs": [
        {
          "data": {
            "text/plain": [
              "(200, 4)"
            ]
          },
          "execution_count": 6,
          "metadata": {},
          "output_type": "execute_result"
        }
      ],
      "source": [
        "df.shape"
      ]
    },
    {
      "cell_type": "code",
      "execution_count": null,
      "id": "86995009",
      "metadata": {
        "id": "86995009",
        "outputId": "938fab81-5ec0-4d1a-aefd-707087d9829e"
      },
      "outputs": [
        {
          "name": "stdout",
          "output_type": "stream",
          "text": [
            "<class 'pandas.core.frame.DataFrame'>\n",
            "RangeIndex: 200 entries, 0 to 199\n",
            "Data columns (total 4 columns):\n",
            " #   Column     Non-Null Count  Dtype  \n",
            "---  ------     --------------  -----  \n",
            " 0   TV         200 non-null    float64\n",
            " 1   radio      200 non-null    float64\n",
            " 2   newspaper  200 non-null    float64\n",
            " 3   sales      200 non-null    float64\n",
            "dtypes: float64(4)\n",
            "memory usage: 6.4 KB\n"
          ]
        }
      ],
      "source": [
        "df.info()"
      ]
    },
    {
      "cell_type": "code",
      "execution_count": null,
      "id": "f608932b",
      "metadata": {
        "scrolled": true,
        "id": "f608932b",
        "outputId": "a95ba9d7-1867-472b-a09a-b0655b0bfc51"
      },
      "outputs": [
        {
          "data": {
            "text/html": [
              "<div>\n",
              "<style scoped>\n",
              "    .dataframe tbody tr th:only-of-type {\n",
              "        vertical-align: middle;\n",
              "    }\n",
              "\n",
              "    .dataframe tbody tr th {\n",
              "        vertical-align: top;\n",
              "    }\n",
              "\n",
              "    .dataframe thead th {\n",
              "        text-align: right;\n",
              "    }\n",
              "</style>\n",
              "<table border=\"1\" class=\"dataframe\">\n",
              "  <thead>\n",
              "    <tr style=\"text-align: right;\">\n",
              "      <th></th>\n",
              "      <th>TV</th>\n",
              "      <th>radio</th>\n",
              "      <th>newspaper</th>\n",
              "      <th>sales</th>\n",
              "    </tr>\n",
              "  </thead>\n",
              "  <tbody>\n",
              "    <tr>\n",
              "      <th>count</th>\n",
              "      <td>200.000000</td>\n",
              "      <td>200.000000</td>\n",
              "      <td>200.000000</td>\n",
              "      <td>200.000000</td>\n",
              "    </tr>\n",
              "    <tr>\n",
              "      <th>mean</th>\n",
              "      <td>147.042500</td>\n",
              "      <td>23.264000</td>\n",
              "      <td>30.554000</td>\n",
              "      <td>14.022500</td>\n",
              "    </tr>\n",
              "    <tr>\n",
              "      <th>std</th>\n",
              "      <td>85.854236</td>\n",
              "      <td>14.846809</td>\n",
              "      <td>21.778621</td>\n",
              "      <td>5.217457</td>\n",
              "    </tr>\n",
              "    <tr>\n",
              "      <th>min</th>\n",
              "      <td>0.700000</td>\n",
              "      <td>0.000000</td>\n",
              "      <td>0.300000</td>\n",
              "      <td>1.600000</td>\n",
              "    </tr>\n",
              "    <tr>\n",
              "      <th>25%</th>\n",
              "      <td>74.375000</td>\n",
              "      <td>9.975000</td>\n",
              "      <td>12.750000</td>\n",
              "      <td>10.375000</td>\n",
              "    </tr>\n",
              "    <tr>\n",
              "      <th>50%</th>\n",
              "      <td>149.750000</td>\n",
              "      <td>22.900000</td>\n",
              "      <td>25.750000</td>\n",
              "      <td>12.900000</td>\n",
              "    </tr>\n",
              "    <tr>\n",
              "      <th>75%</th>\n",
              "      <td>218.825000</td>\n",
              "      <td>36.525000</td>\n",
              "      <td>45.100000</td>\n",
              "      <td>17.400000</td>\n",
              "    </tr>\n",
              "    <tr>\n",
              "      <th>max</th>\n",
              "      <td>296.400000</td>\n",
              "      <td>49.600000</td>\n",
              "      <td>114.000000</td>\n",
              "      <td>27.000000</td>\n",
              "    </tr>\n",
              "  </tbody>\n",
              "</table>\n",
              "</div>"
            ],
            "text/plain": [
              "               TV       radio   newspaper       sales\n",
              "count  200.000000  200.000000  200.000000  200.000000\n",
              "mean   147.042500   23.264000   30.554000   14.022500\n",
              "std     85.854236   14.846809   21.778621    5.217457\n",
              "min      0.700000    0.000000    0.300000    1.600000\n",
              "25%     74.375000    9.975000   12.750000   10.375000\n",
              "50%    149.750000   22.900000   25.750000   12.900000\n",
              "75%    218.825000   36.525000   45.100000   17.400000\n",
              "max    296.400000   49.600000  114.000000   27.000000"
            ]
          },
          "execution_count": 8,
          "metadata": {},
          "output_type": "execute_result"
        }
      ],
      "source": [
        "df.describe()"
      ]
    },
    {
      "cell_type": "markdown",
      "id": "b686f11f",
      "metadata": {
        "id": "b686f11f"
      },
      "source": [
        "### Not: mean ve std arasında anlamlı ilişki olmalı"
      ]
    },
    {
      "cell_type": "code",
      "execution_count": null,
      "id": "da794647",
      "metadata": {
        "id": "da794647",
        "outputId": "dc34687c-d47d-4587-efa5-573e65579d05"
      },
      "outputs": [
        {
          "name": "stdout",
          "output_type": "stream",
          "text": [
            "111.25\n",
            "7.39509972887452\n"
          ]
        }
      ],
      "source": [
        "\n",
        "print(np.mean([100,110,120,115]))\n",
        "print(np.std([100,110,120,115]))"
      ]
    },
    {
      "cell_type": "code",
      "execution_count": null,
      "id": "b24b8e0b",
      "metadata": {
        "id": "b24b8e0b",
        "outputId": "c5aa7051-9fa3-4acd-fb81-55c21eeb7ed7"
      },
      "outputs": [
        {
          "name": "stdout",
          "output_type": "stream",
          "text": [
            "257.5\n",
            "255.57533136044253\n"
          ]
        }
      ],
      "source": [
        "print(np.mean([100, 110, 120, 700]))\n",
        "print(np.std([100, 110, 120, 700]))"
      ]
    },
    {
      "cell_type": "code",
      "execution_count": null,
      "id": "7c822cdf",
      "metadata": {
        "id": "7c822cdf",
        "outputId": "a2049073-3a76-43fa-efef-e9ed14415ef0"
      },
      "outputs": [
        {
          "name": "stdout",
          "output_type": "stream",
          "text": [
            "307.5\n",
            "342.153109002388\n"
          ]
        }
      ],
      "source": [
        "print(np.mean([100, 110, 120, 900]))\n",
        "print(np.std([100, 110, 120, 900]))"
      ]
    },
    {
      "cell_type": "markdown",
      "id": "a397f932",
      "metadata": {
        "id": "a397f932"
      },
      "source": [
        "## Distribution of features"
      ]
    },
    {
      "cell_type": "code",
      "execution_count": null,
      "id": "9cf8f932",
      "metadata": {
        "id": "9cf8f932",
        "outputId": "7d9c46ba-4d90-44fd-c9e7-77b3989800e4"
      },
      "outputs": [
        {
          "data": {
            "image/png": "[encoded data removed]",
            "text/plain": [
              "<Figure size 1000x1000 with 20 Axes>"
            ]
          },
          "metadata": {},
          "output_type": "display_data"
        }
      ],
      "source": [
        "sns.pairplot(df);\n",
        "plt.show()"
      ]
    },
    {
      "cell_type": "code",
      "execution_count": null,
      "id": "a40a3ee7",
      "metadata": {
        "id": "a40a3ee7",
        "outputId": "38d57a9e-dd63-45fc-de7c-62d6de9fa54b"
      },
      "outputs": [
        {
          "data": {
            "text/html": [
              "<div>\n",
              "<style scoped>\n",
              "    .dataframe tbody tr th:only-of-type {\n",
              "        vertical-align: middle;\n",
              "    }\n",
              "\n",
              "    .dataframe tbody tr th {\n",
              "        vertical-align: top;\n",
              "    }\n",
              "\n",
              "    .dataframe thead th {\n",
              "        text-align: right;\n",
              "    }\n",
              "</style>\n",
              "<table border=\"1\" class=\"dataframe\">\n",
              "  <thead>\n",
              "    <tr style=\"text-align: right;\">\n",
              "      <th></th>\n",
              "      <th>TV</th>\n",
              "      <th>radio</th>\n",
              "      <th>newspaper</th>\n",
              "      <th>sales</th>\n",
              "    </tr>\n",
              "  </thead>\n",
              "  <tbody>\n",
              "    <tr>\n",
              "      <th>TV</th>\n",
              "      <td>1.000000</td>\n",
              "      <td>0.054809</td>\n",
              "      <td>0.056648</td>\n",
              "      <td>0.782224</td>\n",
              "    </tr>\n",
              "    <tr>\n",
              "      <th>radio</th>\n",
              "      <td>0.054809</td>\n",
              "      <td>1.000000</td>\n",
              "      <td>0.354104</td>\n",
              "      <td>0.576223</td>\n",
              "    </tr>\n",
              "    <tr>\n",
              "      <th>newspaper</th>\n",
              "      <td>0.056648</td>\n",
              "      <td>0.354104</td>\n",
              "      <td>1.000000</td>\n",
              "      <td>0.228299</td>\n",
              "    </tr>\n",
              "    <tr>\n",
              "      <th>sales</th>\n",
              "      <td>0.782224</td>\n",
              "      <td>0.576223</td>\n",
              "      <td>0.228299</td>\n",
              "      <td>1.000000</td>\n",
              "    </tr>\n",
              "  </tbody>\n",
              "</table>\n",
              "</div>"
            ],
            "text/plain": [
              "                 TV     radio  newspaper     sales\n",
              "TV         1.000000  0.054809   0.056648  0.782224\n",
              "radio      0.054809  1.000000   0.354104  0.576223\n",
              "newspaper  0.056648  0.354104   1.000000  0.228299\n",
              "sales      0.782224  0.576223   0.228299  1.000000"
            ]
          },
          "execution_count": 13,
          "metadata": {},
          "output_type": "execute_result"
        }
      ],
      "source": [
        "df.corr()"
      ]
    },
    {
      "cell_type": "code",
      "execution_count": null,
      "id": "5b0228c7",
      "metadata": {
        "id": "5b0228c7",
        "outputId": "66a45d41-14dd-4379-c40c-cc843408bd26"
      },
      "outputs": [
        {
          "data": {
            "image/png": "[encoded data removed]",
            "text/plain": [
              "<Figure size 1000x600 with 2 Axes>"
            ]
          },
          "metadata": {},
          "output_type": "display_data"
        }
      ],
      "source": [
        "sns.heatmap(df.corr(), annot=True)\n",
        "plt.show()"
      ]
    },
    {
      "cell_type": "markdown",
      "id": "6ce41113",
      "metadata": {
        "id": "6ce41113"
      },
      "source": [
        "## Train-Test Split \n",
        "datayı train ve test olarak bölüyoruz"
      ]
    },
    {
      "cell_type": "code",
      "execution_count": null,
      "id": "d8f860aa",
      "metadata": {
        "id": "d8f860aa"
      },
      "outputs": [],
      "source": [
        "X = df.drop(columns =\"sales\")  # veya df[[\"TV\", \"radio\", \"newspaper\"]]\n",
        "y = df[\"sales\"] # target sütunu"
      ]
    },
    {
      "cell_type": "code",
      "execution_count": null,
      "id": "05bc8e7e",
      "metadata": {
        "id": "05bc8e7e"
      },
      "outputs": [],
      "source": [
        "from sklearn.model_selection import train_test_split # sklearn kütüpaneden ilgili modulü import ederiz\n"
      ]
    },
    {
      "cell_type": "code",
      "execution_count": null,
      "id": "4b72af9b",
      "metadata": {
        "id": "4b72af9b"
      },
      "outputs": [],
      "source": [
        "X_train, X_test, y_train, y_test = train_test_split(X, y, test_size = 0.3,  random_state =42 )\n",
        "# datamızı test ve train olarak bölüyoruz. \n",
        "#  random_state =42  ekip olarak çalıştığımızda herkesin aynı değerleri (score) randon olarak alabilmesi için yazıyoruz\n",
        "# test_size=0.3  datanın % kaçını test için ayıracağımızı belirtiyoruz\n"
      ]
    },
    {
      "cell_type": "code",
      "execution_count": null,
      "id": "c6693286",
      "metadata": {
        "id": "c6693286",
        "outputId": "78185e8a-e2ae-4a5d-ad9d-d374f9f971e3"
      },
      "outputs": [
        {
          "data": {
            "text/html": [
              "<div>\n",
              "<style scoped>\n",
              "    .dataframe tbody tr th:only-of-type {\n",
              "        vertical-align: middle;\n",
              "    }\n",
              "\n",
              "    .dataframe tbody tr th {\n",
              "        vertical-align: top;\n",
              "    }\n",
              "\n",
              "    .dataframe thead th {\n",
              "        text-align: right;\n",
              "    }\n",
              "</style>\n",
              "<table border=\"1\" class=\"dataframe\">\n",
              "  <thead>\n",
              "    <tr style=\"text-align: right;\">\n",
              "      <th></th>\n",
              "      <th>TV</th>\n",
              "      <th>radio</th>\n",
              "      <th>newspaper</th>\n",
              "      <th>sales</th>\n",
              "    </tr>\n",
              "  </thead>\n",
              "  <tbody>\n",
              "    <tr>\n",
              "      <th>108</th>\n",
              "      <td>13.1</td>\n",
              "      <td>0.4</td>\n",
              "      <td>25.6</td>\n",
              "      <td>5.3</td>\n",
              "    </tr>\n",
              "    <tr>\n",
              "      <th>87</th>\n",
              "      <td>110.7</td>\n",
              "      <td>40.6</td>\n",
              "      <td>63.2</td>\n",
              "      <td>16.0</td>\n",
              "    </tr>\n",
              "    <tr>\n",
              "      <th>185</th>\n",
              "      <td>205.0</td>\n",
              "      <td>45.1</td>\n",
              "      <td>19.6</td>\n",
              "      <td>22.6</td>\n",
              "    </tr>\n",
              "    <tr>\n",
              "      <th>130</th>\n",
              "      <td>0.7</td>\n",
              "      <td>39.6</td>\n",
              "      <td>8.7</td>\n",
              "      <td>1.6</td>\n",
              "    </tr>\n",
              "    <tr>\n",
              "      <th>192</th>\n",
              "      <td>17.2</td>\n",
              "      <td>4.1</td>\n",
              "      <td>31.6</td>\n",
              "      <td>5.9</td>\n",
              "    </tr>\n",
              "    <tr>\n",
              "      <th>151</th>\n",
              "      <td>121.0</td>\n",
              "      <td>8.4</td>\n",
              "      <td>48.7</td>\n",
              "      <td>11.6</td>\n",
              "    </tr>\n",
              "    <tr>\n",
              "      <th>74</th>\n",
              "      <td>213.4</td>\n",
              "      <td>24.6</td>\n",
              "      <td>13.1</td>\n",
              "      <td>17.0</td>\n",
              "    </tr>\n",
              "    <tr>\n",
              "      <th>180</th>\n",
              "      <td>156.6</td>\n",
              "      <td>2.6</td>\n",
              "      <td>8.3</td>\n",
              "      <td>10.5</td>\n",
              "    </tr>\n",
              "    <tr>\n",
              "      <th>36</th>\n",
              "      <td>266.9</td>\n",
              "      <td>43.8</td>\n",
              "      <td>5.0</td>\n",
              "      <td>25.4</td>\n",
              "    </tr>\n",
              "    <tr>\n",
              "      <th>138</th>\n",
              "      <td>43.0</td>\n",
              "      <td>25.9</td>\n",
              "      <td>20.5</td>\n",
              "      <td>9.6</td>\n",
              "    </tr>\n",
              "    <tr>\n",
              "      <th>28</th>\n",
              "      <td>248.8</td>\n",
              "      <td>27.1</td>\n",
              "      <td>22.9</td>\n",
              "      <td>18.9</td>\n",
              "    </tr>\n",
              "    <tr>\n",
              "      <th>31</th>\n",
              "      <td>112.9</td>\n",
              "      <td>17.4</td>\n",
              "      <td>38.6</td>\n",
              "      <td>11.9</td>\n",
              "    </tr>\n",
              "    <tr>\n",
              "      <th>69</th>\n",
              "      <td>216.8</td>\n",
              "      <td>43.9</td>\n",
              "      <td>27.2</td>\n",
              "      <td>22.3</td>\n",
              "    </tr>\n",
              "    <tr>\n",
              "      <th>75</th>\n",
              "      <td>16.9</td>\n",
              "      <td>43.7</td>\n",
              "      <td>89.4</td>\n",
              "      <td>8.7</td>\n",
              "    </tr>\n",
              "    <tr>\n",
              "      <th>54</th>\n",
              "      <td>262.7</td>\n",
              "      <td>28.8</td>\n",
              "      <td>15.9</td>\n",
              "      <td>20.2</td>\n",
              "    </tr>\n",
              "  </tbody>\n",
              "</table>\n",
              "</div>"
            ],
            "text/plain": [
              "        TV  radio  newspaper  sales\n",
              "108   13.1    0.4       25.6    5.3\n",
              "87   110.7   40.6       63.2   16.0\n",
              "185  205.0   45.1       19.6   22.6\n",
              "130    0.7   39.6        8.7    1.6\n",
              "192   17.2    4.1       31.6    5.9\n",
              "151  121.0    8.4       48.7   11.6\n",
              "74   213.4   24.6       13.1   17.0\n",
              "180  156.6    2.6        8.3   10.5\n",
              "36   266.9   43.8        5.0   25.4\n",
              "138   43.0   25.9       20.5    9.6\n",
              "28   248.8   27.1       22.9   18.9\n",
              "31   112.9   17.4       38.6   11.9\n",
              "69   216.8   43.9       27.2   22.3\n",
              "75    16.9   43.7       89.4    8.7\n",
              "54   262.7   28.8       15.9   20.2"
            ]
          },
          "execution_count": 18,
          "metadata": {},
          "output_type": "execute_result"
        }
      ],
      "source": [
        "df.sample(15)"
      ]
    },
    {
      "cell_type": "code",
      "execution_count": null,
      "id": "e2651558",
      "metadata": {
        "id": "e2651558",
        "outputId": "b792bc81-5efd-41f7-da64-cf68dab14448"
      },
      "outputs": [
        {
          "data": {
            "text/html": [
              "<div>\n",
              "<style scoped>\n",
              "    .dataframe tbody tr th:only-of-type {\n",
              "        vertical-align: middle;\n",
              "    }\n",
              "\n",
              "    .dataframe tbody tr th {\n",
              "        vertical-align: top;\n",
              "    }\n",
              "\n",
              "    .dataframe thead th {\n",
              "        text-align: right;\n",
              "    }\n",
              "</style>\n",
              "<table border=\"1\" class=\"dataframe\">\n",
              "  <thead>\n",
              "    <tr style=\"text-align: right;\">\n",
              "      <th></th>\n",
              "      <th>TV</th>\n",
              "      <th>radio</th>\n",
              "      <th>newspaper</th>\n",
              "    </tr>\n",
              "  </thead>\n",
              "  <tbody>\n",
              "    <tr>\n",
              "      <th>169</th>\n",
              "      <td>284.3</td>\n",
              "      <td>10.6</td>\n",
              "      <td>6.4</td>\n",
              "    </tr>\n",
              "    <tr>\n",
              "      <th>97</th>\n",
              "      <td>184.9</td>\n",
              "      <td>21.0</td>\n",
              "      <td>22.0</td>\n",
              "    </tr>\n",
              "    <tr>\n",
              "      <th>31</th>\n",
              "      <td>112.9</td>\n",
              "      <td>17.4</td>\n",
              "      <td>38.6</td>\n",
              "    </tr>\n",
              "    <tr>\n",
              "      <th>12</th>\n",
              "      <td>23.8</td>\n",
              "      <td>35.1</td>\n",
              "      <td>65.9</td>\n",
              "    </tr>\n",
              "    <tr>\n",
              "      <th>35</th>\n",
              "      <td>290.7</td>\n",
              "      <td>4.1</td>\n",
              "      <td>8.5</td>\n",
              "    </tr>\n",
              "    <tr>\n",
              "      <th>...</th>\n",
              "      <td>...</td>\n",
              "      <td>...</td>\n",
              "      <td>...</td>\n",
              "    </tr>\n",
              "    <tr>\n",
              "      <th>106</th>\n",
              "      <td>25.0</td>\n",
              "      <td>11.0</td>\n",
              "      <td>29.7</td>\n",
              "    </tr>\n",
              "    <tr>\n",
              "      <th>14</th>\n",
              "      <td>204.1</td>\n",
              "      <td>32.9</td>\n",
              "      <td>46.0</td>\n",
              "    </tr>\n",
              "    <tr>\n",
              "      <th>92</th>\n",
              "      <td>217.7</td>\n",
              "      <td>33.5</td>\n",
              "      <td>59.0</td>\n",
              "    </tr>\n",
              "    <tr>\n",
              "      <th>179</th>\n",
              "      <td>165.6</td>\n",
              "      <td>10.0</td>\n",
              "      <td>17.6</td>\n",
              "    </tr>\n",
              "    <tr>\n",
              "      <th>102</th>\n",
              "      <td>280.2</td>\n",
              "      <td>10.1</td>\n",
              "      <td>21.4</td>\n",
              "    </tr>\n",
              "  </tbody>\n",
              "</table>\n",
              "<p>140 rows × 3 columns</p>\n",
              "</div>"
            ],
            "text/plain": [
              "        TV  radio  newspaper\n",
              "169  284.3   10.6        6.4\n",
              "97   184.9   21.0       22.0\n",
              "31   112.9   17.4       38.6\n",
              "12    23.8   35.1       65.9\n",
              "35   290.7    4.1        8.5\n",
              "..     ...    ...        ...\n",
              "106   25.0   11.0       29.7\n",
              "14   204.1   32.9       46.0\n",
              "92   217.7   33.5       59.0\n",
              "179  165.6   10.0       17.6\n",
              "102  280.2   10.1       21.4\n",
              "\n",
              "[140 rows x 3 columns]"
            ]
          },
          "execution_count": 19,
          "metadata": {},
          "output_type": "execute_result"
        }
      ],
      "source": [
        "X_train"
      ]
    },
    {
      "cell_type": "code",
      "execution_count": null,
      "id": "6cb93073",
      "metadata": {
        "id": "6cb93073",
        "outputId": "f36b374c-23b2-4c71-a10e-dcb6863a21da"
      },
      "outputs": [
        {
          "data": {
            "text/html": [
              "<div>\n",
              "<style scoped>\n",
              "    .dataframe tbody tr th:only-of-type {\n",
              "        vertical-align: middle;\n",
              "    }\n",
              "\n",
              "    .dataframe tbody tr th {\n",
              "        vertical-align: top;\n",
              "    }\n",
              "\n",
              "    .dataframe thead th {\n",
              "        text-align: right;\n",
              "    }\n",
              "</style>\n",
              "<table border=\"1\" class=\"dataframe\">\n",
              "  <thead>\n",
              "    <tr style=\"text-align: right;\">\n",
              "      <th></th>\n",
              "      <th>TV</th>\n",
              "      <th>radio</th>\n",
              "      <th>newspaper</th>\n",
              "    </tr>\n",
              "  </thead>\n",
              "  <tbody>\n",
              "    <tr>\n",
              "      <th>95</th>\n",
              "      <td>163.3</td>\n",
              "      <td>31.6</td>\n",
              "      <td>52.9</td>\n",
              "    </tr>\n",
              "    <tr>\n",
              "      <th>15</th>\n",
              "      <td>195.4</td>\n",
              "      <td>47.7</td>\n",
              "      <td>52.9</td>\n",
              "    </tr>\n",
              "    <tr>\n",
              "      <th>30</th>\n",
              "      <td>292.9</td>\n",
              "      <td>28.3</td>\n",
              "      <td>43.2</td>\n",
              "    </tr>\n",
              "    <tr>\n",
              "      <th>158</th>\n",
              "      <td>11.7</td>\n",
              "      <td>36.9</td>\n",
              "      <td>45.2</td>\n",
              "    </tr>\n",
              "    <tr>\n",
              "      <th>128</th>\n",
              "      <td>220.3</td>\n",
              "      <td>49.0</td>\n",
              "      <td>3.2</td>\n",
              "    </tr>\n",
              "    <tr>\n",
              "      <th>115</th>\n",
              "      <td>75.1</td>\n",
              "      <td>35.0</td>\n",
              "      <td>52.7</td>\n",
              "    </tr>\n",
              "    <tr>\n",
              "      <th>69</th>\n",
              "      <td>216.8</td>\n",
              "      <td>43.9</td>\n",
              "      <td>27.2</td>\n",
              "    </tr>\n",
              "    <tr>\n",
              "      <th>170</th>\n",
              "      <td>50.0</td>\n",
              "      <td>11.6</td>\n",
              "      <td>18.4</td>\n",
              "    </tr>\n",
              "    <tr>\n",
              "      <th>174</th>\n",
              "      <td>222.4</td>\n",
              "      <td>3.4</td>\n",
              "      <td>13.1</td>\n",
              "    </tr>\n",
              "    <tr>\n",
              "      <th>45</th>\n",
              "      <td>175.1</td>\n",
              "      <td>22.5</td>\n",
              "      <td>31.5</td>\n",
              "    </tr>\n",
              "    <tr>\n",
              "      <th>66</th>\n",
              "      <td>31.5</td>\n",
              "      <td>24.6</td>\n",
              "      <td>2.2</td>\n",
              "    </tr>\n",
              "    <tr>\n",
              "      <th>182</th>\n",
              "      <td>56.2</td>\n",
              "      <td>5.7</td>\n",
              "      <td>29.7</td>\n",
              "    </tr>\n",
              "    <tr>\n",
              "      <th>165</th>\n",
              "      <td>234.5</td>\n",
              "      <td>3.4</td>\n",
              "      <td>84.8</td>\n",
              "    </tr>\n",
              "    <tr>\n",
              "      <th>78</th>\n",
              "      <td>5.4</td>\n",
              "      <td>29.9</td>\n",
              "      <td>9.4</td>\n",
              "    </tr>\n",
              "    <tr>\n",
              "      <th>186</th>\n",
              "      <td>139.5</td>\n",
              "      <td>2.1</td>\n",
              "      <td>26.6</td>\n",
              "    </tr>\n",
              "    <tr>\n",
              "      <th>177</th>\n",
              "      <td>170.2</td>\n",
              "      <td>7.8</td>\n",
              "      <td>35.2</td>\n",
              "    </tr>\n",
              "    <tr>\n",
              "      <th>56</th>\n",
              "      <td>7.3</td>\n",
              "      <td>28.1</td>\n",
              "      <td>41.4</td>\n",
              "    </tr>\n",
              "    <tr>\n",
              "      <th>152</th>\n",
              "      <td>197.6</td>\n",
              "      <td>23.3</td>\n",
              "      <td>14.2</td>\n",
              "    </tr>\n",
              "    <tr>\n",
              "      <th>82</th>\n",
              "      <td>75.3</td>\n",
              "      <td>20.3</td>\n",
              "      <td>32.5</td>\n",
              "    </tr>\n",
              "    <tr>\n",
              "      <th>68</th>\n",
              "      <td>237.4</td>\n",
              "      <td>27.5</td>\n",
              "      <td>11.0</td>\n",
              "    </tr>\n",
              "    <tr>\n",
              "      <th>124</th>\n",
              "      <td>229.5</td>\n",
              "      <td>32.3</td>\n",
              "      <td>74.2</td>\n",
              "    </tr>\n",
              "    <tr>\n",
              "      <th>16</th>\n",
              "      <td>67.8</td>\n",
              "      <td>36.6</td>\n",
              "      <td>114.0</td>\n",
              "    </tr>\n",
              "    <tr>\n",
              "      <th>148</th>\n",
              "      <td>38.0</td>\n",
              "      <td>40.3</td>\n",
              "      <td>11.9</td>\n",
              "    </tr>\n",
              "    <tr>\n",
              "      <th>93</th>\n",
              "      <td>250.9</td>\n",
              "      <td>36.5</td>\n",
              "      <td>72.3</td>\n",
              "    </tr>\n",
              "    <tr>\n",
              "      <th>65</th>\n",
              "      <td>69.0</td>\n",
              "      <td>9.3</td>\n",
              "      <td>0.9</td>\n",
              "    </tr>\n",
              "    <tr>\n",
              "      <th>60</th>\n",
              "      <td>53.5</td>\n",
              "      <td>2.0</td>\n",
              "      <td>21.4</td>\n",
              "    </tr>\n",
              "    <tr>\n",
              "      <th>84</th>\n",
              "      <td>213.5</td>\n",
              "      <td>43.0</td>\n",
              "      <td>33.8</td>\n",
              "    </tr>\n",
              "    <tr>\n",
              "      <th>67</th>\n",
              "      <td>139.3</td>\n",
              "      <td>14.5</td>\n",
              "      <td>10.2</td>\n",
              "    </tr>\n",
              "    <tr>\n",
              "      <th>125</th>\n",
              "      <td>87.2</td>\n",
              "      <td>11.8</td>\n",
              "      <td>25.9</td>\n",
              "    </tr>\n",
              "    <tr>\n",
              "      <th>132</th>\n",
              "      <td>8.4</td>\n",
              "      <td>27.2</td>\n",
              "      <td>2.1</td>\n",
              "    </tr>\n",
              "    <tr>\n",
              "      <th>9</th>\n",
              "      <td>199.8</td>\n",
              "      <td>2.6</td>\n",
              "      <td>21.2</td>\n",
              "    </tr>\n",
              "    <tr>\n",
              "      <th>18</th>\n",
              "      <td>69.2</td>\n",
              "      <td>20.5</td>\n",
              "      <td>18.3</td>\n",
              "    </tr>\n",
              "    <tr>\n",
              "      <th>55</th>\n",
              "      <td>198.9</td>\n",
              "      <td>49.4</td>\n",
              "      <td>60.0</td>\n",
              "    </tr>\n",
              "    <tr>\n",
              "      <th>75</th>\n",
              "      <td>16.9</td>\n",
              "      <td>43.7</td>\n",
              "      <td>89.4</td>\n",
              "    </tr>\n",
              "    <tr>\n",
              "      <th>150</th>\n",
              "      <td>280.7</td>\n",
              "      <td>13.9</td>\n",
              "      <td>37.0</td>\n",
              "    </tr>\n",
              "    <tr>\n",
              "      <th>104</th>\n",
              "      <td>238.2</td>\n",
              "      <td>34.3</td>\n",
              "      <td>5.3</td>\n",
              "    </tr>\n",
              "    <tr>\n",
              "      <th>135</th>\n",
              "      <td>48.3</td>\n",
              "      <td>47.0</td>\n",
              "      <td>8.5</td>\n",
              "    </tr>\n",
              "    <tr>\n",
              "      <th>137</th>\n",
              "      <td>273.7</td>\n",
              "      <td>28.9</td>\n",
              "      <td>59.7</td>\n",
              "    </tr>\n",
              "    <tr>\n",
              "      <th>164</th>\n",
              "      <td>117.2</td>\n",
              "      <td>14.7</td>\n",
              "      <td>5.4</td>\n",
              "    </tr>\n",
              "    <tr>\n",
              "      <th>76</th>\n",
              "      <td>27.5</td>\n",
              "      <td>1.6</td>\n",
              "      <td>20.7</td>\n",
              "    </tr>\n",
              "    <tr>\n",
              "      <th>79</th>\n",
              "      <td>116.0</td>\n",
              "      <td>7.7</td>\n",
              "      <td>23.1</td>\n",
              "    </tr>\n",
              "    <tr>\n",
              "      <th>197</th>\n",
              "      <td>177.0</td>\n",
              "      <td>9.3</td>\n",
              "      <td>6.4</td>\n",
              "    </tr>\n",
              "    <tr>\n",
              "      <th>38</th>\n",
              "      <td>43.1</td>\n",
              "      <td>26.7</td>\n",
              "      <td>35.1</td>\n",
              "    </tr>\n",
              "    <tr>\n",
              "      <th>24</th>\n",
              "      <td>62.3</td>\n",
              "      <td>12.6</td>\n",
              "      <td>18.3</td>\n",
              "    </tr>\n",
              "    <tr>\n",
              "      <th>122</th>\n",
              "      <td>224.0</td>\n",
              "      <td>2.4</td>\n",
              "      <td>15.6</td>\n",
              "    </tr>\n",
              "    <tr>\n",
              "      <th>195</th>\n",
              "      <td>38.2</td>\n",
              "      <td>3.7</td>\n",
              "      <td>13.8</td>\n",
              "    </tr>\n",
              "    <tr>\n",
              "      <th>29</th>\n",
              "      <td>70.6</td>\n",
              "      <td>16.0</td>\n",
              "      <td>40.8</td>\n",
              "    </tr>\n",
              "    <tr>\n",
              "      <th>19</th>\n",
              "      <td>147.3</td>\n",
              "      <td>23.9</td>\n",
              "      <td>19.1</td>\n",
              "    </tr>\n",
              "    <tr>\n",
              "      <th>143</th>\n",
              "      <td>104.6</td>\n",
              "      <td>5.7</td>\n",
              "      <td>34.4</td>\n",
              "    </tr>\n",
              "    <tr>\n",
              "      <th>86</th>\n",
              "      <td>76.3</td>\n",
              "      <td>27.5</td>\n",
              "      <td>16.0</td>\n",
              "    </tr>\n",
              "    <tr>\n",
              "      <th>114</th>\n",
              "      <td>78.2</td>\n",
              "      <td>46.8</td>\n",
              "      <td>34.5</td>\n",
              "    </tr>\n",
              "    <tr>\n",
              "      <th>173</th>\n",
              "      <td>168.4</td>\n",
              "      <td>7.1</td>\n",
              "      <td>12.8</td>\n",
              "    </tr>\n",
              "    <tr>\n",
              "      <th>5</th>\n",
              "      <td>8.7</td>\n",
              "      <td>48.9</td>\n",
              "      <td>75.0</td>\n",
              "    </tr>\n",
              "    <tr>\n",
              "      <th>126</th>\n",
              "      <td>7.8</td>\n",
              "      <td>38.9</td>\n",
              "      <td>50.6</td>\n",
              "    </tr>\n",
              "    <tr>\n",
              "      <th>117</th>\n",
              "      <td>76.4</td>\n",
              "      <td>0.8</td>\n",
              "      <td>14.8</td>\n",
              "    </tr>\n",
              "    <tr>\n",
              "      <th>73</th>\n",
              "      <td>129.4</td>\n",
              "      <td>5.7</td>\n",
              "      <td>31.3</td>\n",
              "    </tr>\n",
              "    <tr>\n",
              "      <th>140</th>\n",
              "      <td>73.4</td>\n",
              "      <td>17.0</td>\n",
              "      <td>12.9</td>\n",
              "    </tr>\n",
              "    <tr>\n",
              "      <th>98</th>\n",
              "      <td>289.7</td>\n",
              "      <td>42.3</td>\n",
              "      <td>51.2</td>\n",
              "    </tr>\n",
              "    <tr>\n",
              "      <th>172</th>\n",
              "      <td>19.6</td>\n",
              "      <td>20.1</td>\n",
              "      <td>17.0</td>\n",
              "    </tr>\n",
              "    <tr>\n",
              "      <th>96</th>\n",
              "      <td>197.6</td>\n",
              "      <td>3.5</td>\n",
              "      <td>5.9</td>\n",
              "    </tr>\n",
              "  </tbody>\n",
              "</table>\n",
              "</div>"
            ],
            "text/plain": [
              "        TV  radio  newspaper\n",
              "95   163.3   31.6       52.9\n",
              "15   195.4   47.7       52.9\n",
              "30   292.9   28.3       43.2\n",
              "158   11.7   36.9       45.2\n",
              "128  220.3   49.0        3.2\n",
              "115   75.1   35.0       52.7\n",
              "69   216.8   43.9       27.2\n",
              "170   50.0   11.6       18.4\n",
              "174  222.4    3.4       13.1\n",
              "45   175.1   22.5       31.5\n",
              "66    31.5   24.6        2.2\n",
              "182   56.2    5.7       29.7\n",
              "165  234.5    3.4       84.8\n",
              "78     5.4   29.9        9.4\n",
              "186  139.5    2.1       26.6\n",
              "177  170.2    7.8       35.2\n",
              "56     7.3   28.1       41.4\n",
              "152  197.6   23.3       14.2\n",
              "82    75.3   20.3       32.5\n",
              "68   237.4   27.5       11.0\n",
              "124  229.5   32.3       74.2\n",
              "16    67.8   36.6      114.0\n",
              "148   38.0   40.3       11.9\n",
              "93   250.9   36.5       72.3\n",
              "65    69.0    9.3        0.9\n",
              "60    53.5    2.0       21.4\n",
              "84   213.5   43.0       33.8\n",
              "67   139.3   14.5       10.2\n",
              "125   87.2   11.8       25.9\n",
              "132    8.4   27.2        2.1\n",
              "9    199.8    2.6       21.2\n",
              "18    69.2   20.5       18.3\n",
              "55   198.9   49.4       60.0\n",
              "75    16.9   43.7       89.4\n",
              "150  280.7   13.9       37.0\n",
              "104  238.2   34.3        5.3\n",
              "135   48.3   47.0        8.5\n",
              "137  273.7   28.9       59.7\n",
              "164  117.2   14.7        5.4\n",
              "76    27.5    1.6       20.7\n",
              "79   116.0    7.7       23.1\n",
              "197  177.0    9.3        6.4\n",
              "38    43.1   26.7       35.1\n",
              "24    62.3   12.6       18.3\n",
              "122  224.0    2.4       15.6\n",
              "195   38.2    3.7       13.8\n",
              "29    70.6   16.0       40.8\n",
              "19   147.3   23.9       19.1\n",
              "143  104.6    5.7       34.4\n",
              "86    76.3   27.5       16.0\n",
              "114   78.2   46.8       34.5\n",
              "173  168.4    7.1       12.8\n",
              "5      8.7   48.9       75.0\n",
              "126    7.8   38.9       50.6\n",
              "117   76.4    0.8       14.8\n",
              "73   129.4    5.7       31.3\n",
              "140   73.4   17.0       12.9\n",
              "98   289.7   42.3       51.2\n",
              "172   19.6   20.1       17.0\n",
              "96   197.6    3.5        5.9"
            ]
          },
          "execution_count": 20,
          "metadata": {},
          "output_type": "execute_result"
        }
      ],
      "source": [
        "X_test"
      ]
    },
    {
      "cell_type": "code",
      "execution_count": null,
      "id": "a46b6c7d",
      "metadata": {
        "id": "a46b6c7d",
        "outputId": "65dda604-0f99-404d-a7f5-0598d13df15a"
      },
      "outputs": [
        {
          "data": {
            "text/plain": [
              "169    15.0\n",
              "97     15.5\n",
              "31     11.9\n",
              "12      9.2\n",
              "35     12.8\n",
              "       ... \n",
              "106     7.2\n",
              "14     19.0\n",
              "92     19.4\n",
              "179    12.6\n",
              "102    14.8\n",
              "Name: sales, Length: 140, dtype: float64"
            ]
          },
          "execution_count": 21,
          "metadata": {},
          "output_type": "execute_result"
        }
      ],
      "source": [
        "y_train"
      ]
    },
    {
      "cell_type": "code",
      "execution_count": null,
      "id": "fcbb49b5",
      "metadata": {
        "id": "fcbb49b5",
        "outputId": "fcdc12c0-13c7-47c4-da53-4afd28f8e347"
      },
      "outputs": [
        {
          "data": {
            "text/plain": [
              "95     16.9\n",
              "15     22.4\n",
              "30     21.4\n",
              "158     7.3\n",
              "128    24.7\n",
              "115    12.6\n",
              "69     22.3\n",
              "170     8.4\n",
              "174    11.5\n",
              "45     14.9\n",
              "66      9.5\n",
              "182     8.7\n",
              "165    11.9\n",
              "78      5.3\n",
              "186    10.3\n",
              "177    11.7\n",
              "56      5.5\n",
              "152    16.6\n",
              "82     11.3\n",
              "68     18.9\n",
              "124    19.7\n",
              "16     12.5\n",
              "148    10.9\n",
              "93     22.2\n",
              "65      9.3\n",
              "60      8.1\n",
              "84     21.7\n",
              "67     13.4\n",
              "125    10.6\n",
              "132     5.7\n",
              "9      10.6\n",
              "18     11.3\n",
              "55     23.7\n",
              "75      8.7\n",
              "150    16.1\n",
              "104    20.7\n",
              "135    11.6\n",
              "137    20.8\n",
              "164    11.9\n",
              "76      6.9\n",
              "79     11.0\n",
              "197    12.8\n",
              "38     10.1\n",
              "24      9.7\n",
              "122    11.6\n",
              "195     7.6\n",
              "29     10.5\n",
              "19     14.6\n",
              "143    10.4\n",
              "86     12.0\n",
              "114    14.6\n",
              "173    11.7\n",
              "5       7.2\n",
              "126     6.6\n",
              "117     9.4\n",
              "73     11.0\n",
              "140    10.9\n",
              "98     25.4\n",
              "172     7.6\n",
              "96     11.7\n",
              "Name: sales, dtype: float64"
            ]
          },
          "execution_count": 22,
          "metadata": {},
          "output_type": "execute_result"
        }
      ],
      "source": [
        "y_test"
      ]
    },
    {
      "cell_type": "markdown",
      "id": "1878761b",
      "metadata": {
        "id": "1878761b"
      },
      "source": [
        "## Model Fitting and Compare Actual and Predicted Labels\n",
        "\n",
        "modelimizi eğitip test edeceğiz\n"
      ]
    },
    {
      "cell_type": "code",
      "execution_count": null,
      "id": "1e8b1a49",
      "metadata": {
        "id": "1e8b1a49"
      },
      "outputs": [],
      "source": [
        "from sklearn.linear_model import LinearRegression"
      ]
    },
    {
      "cell_type": "code",
      "execution_count": null,
      "id": "df82c7e5",
      "metadata": {
        "id": "df82c7e5"
      },
      "outputs": [],
      "source": [
        "model = LinearRegression() # modelimi LR ile eğiteceğim için modelime atadım"
      ]
    },
    {
      "cell_type": "code",
      "execution_count": null,
      "id": "e978aa48",
      "metadata": {
        "id": "e978aa48",
        "outputId": "0815e9c5-0544-46df-f473-d2bf18d68215"
      },
      "outputs": [
        {
          "data": {
            "text/plain": [
              "LinearRegression()"
            ]
          },
          "execution_count": 25,
          "metadata": {},
          "output_type": "execute_result"
        }
      ],
      "source": [
        "model.fit(X_train, y_train) # test datalarını modelime fit ederiz egitiriz. modelimize X_train datası ile y_train'ne göre kendini ğit diyoruz "
      ]
    },
    {
      "cell_type": "code",
      "execution_count": null,
      "id": "00e1277c",
      "metadata": {
        "id": "00e1277c",
        "outputId": "eb3f1b5d-2e94-470a-cd59-3635b5c3711a"
      },
      "outputs": [
        {
          "data": {
            "text/plain": [
              "array([16.5653963 , 21.18822792, 21.55107058, 10.88923816, 22.20231988,\n",
              "       13.35556872, 21.19692502,  7.35028523, 13.27547079, 15.12449511,\n",
              "        9.01443026,  6.52542825, 14.30205991,  8.97026042,  9.45679576,\n",
              "       12.00454351,  8.91549403, 16.15619251, 10.29582883, 18.72473553,\n",
              "       19.76821818, 13.77469028, 12.49638908, 21.53501762,  7.60860741,\n",
              "        5.6119801 , 20.91759483, 11.80627665,  9.08076637,  8.51412012,\n",
              "       12.17604891,  9.9691939 , 21.73008956, 12.77770578, 18.1011362 ,\n",
              "       20.07590796, 14.26202556, 20.93826535, 10.83938827,  4.38190607,\n",
              "        9.51332406, 12.40486324, 10.17045434,  8.09081363, 13.16388427,\n",
              "        5.2243552 ,  9.28893833, 14.09330719,  8.69024497, 11.66119763,\n",
              "       15.71848432, 11.63156862, 13.35360735, 11.1531472 ,  6.33636845,\n",
              "        9.76157954,  9.4195714 , 24.25516546,  7.69519137, 12.15317572])"
            ]
          },
          "execution_count": 26,
          "metadata": {},
          "output_type": "execute_result"
        }
      ],
      "source": [
        "y_pred = model.predict(X_test) # X_test i modelde tahmin ediyoruz,  eğitilmişmi diye test edeyoruz sadece X_test'i veririz, y_pred olaak return ederiz\n",
        "y_pred # tahminlerimiz geldi."
      ]
    },
    {
      "cell_type": "code",
      "execution_count": null,
      "id": "e9939115",
      "metadata": {
        "id": "e9939115",
        "outputId": "3e862c62-53f1-4066-bfaa-09d8dddbcbfc"
      },
      "outputs": [
        {
          "data": {
            "text/plain": [
              "array([0.04405928, 0.1992875 , 0.00688245])"
            ]
          },
          "execution_count": 27,
          "metadata": {},
          "output_type": "execute_result"
        }
      ],
      "source": [
        "model.coef_ # tv radio ve newspaper katsayılarını buluyoruz"
      ]
    },
    {
      "cell_type": "code",
      "execution_count": null,
      "id": "9008a614",
      "metadata": {
        "id": "9008a614",
        "outputId": "0956db0f-7d7a-4431-80cb-041291dc291c"
      },
      "outputs": [
        {
          "data": {
            "text/plain": [
              "2.7089490925159048"
            ]
          },
          "execution_count": 28,
          "metadata": {},
          "output_type": "execute_result"
        }
      ],
      "source": [
        "model.intercept_ # kesişme X = 0 olduğunda  y'nin ilk başladığı değer "
      ]
    },
    {
      "cell_type": "code",
      "execution_count": null,
      "id": "3fabe1f6",
      "metadata": {
        "id": "3fabe1f6"
      },
      "outputs": [],
      "source": [
        "# y_pred = b3 * TV + b2 * radio + b3 * newspaper + b0   (multi Linear Regression y_pred tahmin formülü )\n"
      ]
    },
    {
      "cell_type": "code",
      "execution_count": null,
      "id": "2c302a23",
      "metadata": {
        "id": "2c302a23",
        "outputId": "71b47a69-50d6-4379-e158-55a3f5722e9e"
      },
      "outputs": [
        {
          "data": {
            "text/plain": [
              "16.56539629743484"
            ]
          },
          "execution_count": 30,
          "metadata": {},
          "output_type": "execute_result"
        }
      ],
      "source": [
        "sum(X_test.loc[95] * model.coef_) + model.intercept_  "
      ]
    },
    {
      "cell_type": "code",
      "execution_count": null,
      "id": "8bbf1eae",
      "metadata": {
        "id": "8bbf1eae"
      },
      "outputs": [],
      "source": [
        "my_dict = {\"Actual\": y_test, \"Pred\": y_pred, \"Residual\":y_test - y_pred} "
      ]
    },
    {
      "cell_type": "code",
      "execution_count": null,
      "id": "8b62441d",
      "metadata": {
        "id": "8b62441d",
        "outputId": "3c0d099c-82c8-4457-e2c3-87be8ef00ba9"
      },
      "outputs": [
        {
          "data": {
            "text/html": [
              "<div>\n",
              "<style scoped>\n",
              "    .dataframe tbody tr th:only-of-type {\n",
              "        vertical-align: middle;\n",
              "    }\n",
              "\n",
              "    .dataframe tbody tr th {\n",
              "        vertical-align: top;\n",
              "    }\n",
              "\n",
              "    .dataframe thead th {\n",
              "        text-align: right;\n",
              "    }\n",
              "</style>\n",
              "<table border=\"1\" class=\"dataframe\">\n",
              "  <thead>\n",
              "    <tr style=\"text-align: right;\">\n",
              "      <th></th>\n",
              "      <th>Actual</th>\n",
              "      <th>Pred</th>\n",
              "      <th>Residual</th>\n",
              "    </tr>\n",
              "  </thead>\n",
              "  <tbody>\n",
              "    <tr>\n",
              "      <th>95</th>\n",
              "      <td>16.9</td>\n",
              "      <td>16.565396</td>\n",
              "      <td>0.334604</td>\n",
              "    </tr>\n",
              "    <tr>\n",
              "      <th>15</th>\n",
              "      <td>22.4</td>\n",
              "      <td>21.188228</td>\n",
              "      <td>1.211772</td>\n",
              "    </tr>\n",
              "    <tr>\n",
              "      <th>30</th>\n",
              "      <td>21.4</td>\n",
              "      <td>21.551071</td>\n",
              "      <td>-0.151071</td>\n",
              "    </tr>\n",
              "    <tr>\n",
              "      <th>158</th>\n",
              "      <td>7.3</td>\n",
              "      <td>10.889238</td>\n",
              "      <td>-3.589238</td>\n",
              "    </tr>\n",
              "    <tr>\n",
              "      <th>128</th>\n",
              "      <td>24.7</td>\n",
              "      <td>22.202320</td>\n",
              "      <td>2.497680</td>\n",
              "    </tr>\n",
              "    <tr>\n",
              "      <th>115</th>\n",
              "      <td>12.6</td>\n",
              "      <td>13.355569</td>\n",
              "      <td>-0.755569</td>\n",
              "    </tr>\n",
              "    <tr>\n",
              "      <th>69</th>\n",
              "      <td>22.3</td>\n",
              "      <td>21.196925</td>\n",
              "      <td>1.103075</td>\n",
              "    </tr>\n",
              "    <tr>\n",
              "      <th>170</th>\n",
              "      <td>8.4</td>\n",
              "      <td>7.350285</td>\n",
              "      <td>1.049715</td>\n",
              "    </tr>\n",
              "    <tr>\n",
              "      <th>174</th>\n",
              "      <td>11.5</td>\n",
              "      <td>13.275471</td>\n",
              "      <td>-1.775471</td>\n",
              "    </tr>\n",
              "    <tr>\n",
              "      <th>45</th>\n",
              "      <td>14.9</td>\n",
              "      <td>15.124495</td>\n",
              "      <td>-0.224495</td>\n",
              "    </tr>\n",
              "    <tr>\n",
              "      <th>66</th>\n",
              "      <td>9.5</td>\n",
              "      <td>9.014430</td>\n",
              "      <td>0.485570</td>\n",
              "    </tr>\n",
              "    <tr>\n",
              "      <th>182</th>\n",
              "      <td>8.7</td>\n",
              "      <td>6.525428</td>\n",
              "      <td>2.174572</td>\n",
              "    </tr>\n",
              "    <tr>\n",
              "      <th>165</th>\n",
              "      <td>11.9</td>\n",
              "      <td>14.302060</td>\n",
              "      <td>-2.402060</td>\n",
              "    </tr>\n",
              "    <tr>\n",
              "      <th>78</th>\n",
              "      <td>5.3</td>\n",
              "      <td>8.970260</td>\n",
              "      <td>-3.670260</td>\n",
              "    </tr>\n",
              "    <tr>\n",
              "      <th>186</th>\n",
              "      <td>10.3</td>\n",
              "      <td>9.456796</td>\n",
              "      <td>0.843204</td>\n",
              "    </tr>\n",
              "    <tr>\n",
              "      <th>177</th>\n",
              "      <td>11.7</td>\n",
              "      <td>12.004544</td>\n",
              "      <td>-0.304544</td>\n",
              "    </tr>\n",
              "    <tr>\n",
              "      <th>56</th>\n",
              "      <td>5.5</td>\n",
              "      <td>8.915494</td>\n",
              "      <td>-3.415494</td>\n",
              "    </tr>\n",
              "    <tr>\n",
              "      <th>152</th>\n",
              "      <td>16.6</td>\n",
              "      <td>16.156193</td>\n",
              "      <td>0.443807</td>\n",
              "    </tr>\n",
              "    <tr>\n",
              "      <th>82</th>\n",
              "      <td>11.3</td>\n",
              "      <td>10.295829</td>\n",
              "      <td>1.004171</td>\n",
              "    </tr>\n",
              "    <tr>\n",
              "      <th>68</th>\n",
              "      <td>18.9</td>\n",
              "      <td>18.724736</td>\n",
              "      <td>0.175264</td>\n",
              "    </tr>\n",
              "    <tr>\n",
              "      <th>124</th>\n",
              "      <td>19.7</td>\n",
              "      <td>19.768218</td>\n",
              "      <td>-0.068218</td>\n",
              "    </tr>\n",
              "    <tr>\n",
              "      <th>16</th>\n",
              "      <td>12.5</td>\n",
              "      <td>13.774690</td>\n",
              "      <td>-1.274690</td>\n",
              "    </tr>\n",
              "    <tr>\n",
              "      <th>148</th>\n",
              "      <td>10.9</td>\n",
              "      <td>12.496389</td>\n",
              "      <td>-1.596389</td>\n",
              "    </tr>\n",
              "    <tr>\n",
              "      <th>93</th>\n",
              "      <td>22.2</td>\n",
              "      <td>21.535018</td>\n",
              "      <td>0.664982</td>\n",
              "    </tr>\n",
              "    <tr>\n",
              "      <th>65</th>\n",
              "      <td>9.3</td>\n",
              "      <td>7.608607</td>\n",
              "      <td>1.691393</td>\n",
              "    </tr>\n",
              "    <tr>\n",
              "      <th>60</th>\n",
              "      <td>8.1</td>\n",
              "      <td>5.611980</td>\n",
              "      <td>2.488020</td>\n",
              "    </tr>\n",
              "    <tr>\n",
              "      <th>84</th>\n",
              "      <td>21.7</td>\n",
              "      <td>20.917595</td>\n",
              "      <td>0.782405</td>\n",
              "    </tr>\n",
              "    <tr>\n",
              "      <th>67</th>\n",
              "      <td>13.4</td>\n",
              "      <td>11.806277</td>\n",
              "      <td>1.593723</td>\n",
              "    </tr>\n",
              "    <tr>\n",
              "      <th>125</th>\n",
              "      <td>10.6</td>\n",
              "      <td>9.080766</td>\n",
              "      <td>1.519234</td>\n",
              "    </tr>\n",
              "    <tr>\n",
              "      <th>132</th>\n",
              "      <td>5.7</td>\n",
              "      <td>8.514120</td>\n",
              "      <td>-2.814120</td>\n",
              "    </tr>\n",
              "    <tr>\n",
              "      <th>9</th>\n",
              "      <td>10.6</td>\n",
              "      <td>12.176049</td>\n",
              "      <td>-1.576049</td>\n",
              "    </tr>\n",
              "    <tr>\n",
              "      <th>18</th>\n",
              "      <td>11.3</td>\n",
              "      <td>9.969194</td>\n",
              "      <td>1.330806</td>\n",
              "    </tr>\n",
              "    <tr>\n",
              "      <th>55</th>\n",
              "      <td>23.7</td>\n",
              "      <td>21.730090</td>\n",
              "      <td>1.969910</td>\n",
              "    </tr>\n",
              "    <tr>\n",
              "      <th>75</th>\n",
              "      <td>8.7</td>\n",
              "      <td>12.777706</td>\n",
              "      <td>-4.077706</td>\n",
              "    </tr>\n",
              "    <tr>\n",
              "      <th>150</th>\n",
              "      <td>16.1</td>\n",
              "      <td>18.101136</td>\n",
              "      <td>-2.001136</td>\n",
              "    </tr>\n",
              "    <tr>\n",
              "      <th>104</th>\n",
              "      <td>20.7</td>\n",
              "      <td>20.075908</td>\n",
              "      <td>0.624092</td>\n",
              "    </tr>\n",
              "    <tr>\n",
              "      <th>135</th>\n",
              "      <td>11.6</td>\n",
              "      <td>14.262026</td>\n",
              "      <td>-2.662026</td>\n",
              "    </tr>\n",
              "    <tr>\n",
              "      <th>137</th>\n",
              "      <td>20.8</td>\n",
              "      <td>20.938265</td>\n",
              "      <td>-0.138265</td>\n",
              "    </tr>\n",
              "    <tr>\n",
              "      <th>164</th>\n",
              "      <td>11.9</td>\n",
              "      <td>10.839388</td>\n",
              "      <td>1.060612</td>\n",
              "    </tr>\n",
              "    <tr>\n",
              "      <th>76</th>\n",
              "      <td>6.9</td>\n",
              "      <td>4.381906</td>\n",
              "      <td>2.518094</td>\n",
              "    </tr>\n",
              "    <tr>\n",
              "      <th>79</th>\n",
              "      <td>11.0</td>\n",
              "      <td>9.513324</td>\n",
              "      <td>1.486676</td>\n",
              "    </tr>\n",
              "    <tr>\n",
              "      <th>197</th>\n",
              "      <td>12.8</td>\n",
              "      <td>12.404863</td>\n",
              "      <td>0.395137</td>\n",
              "    </tr>\n",
              "    <tr>\n",
              "      <th>38</th>\n",
              "      <td>10.1</td>\n",
              "      <td>10.170454</td>\n",
              "      <td>-0.070454</td>\n",
              "    </tr>\n",
              "    <tr>\n",
              "      <th>24</th>\n",
              "      <td>9.7</td>\n",
              "      <td>8.090814</td>\n",
              "      <td>1.609186</td>\n",
              "    </tr>\n",
              "    <tr>\n",
              "      <th>122</th>\n",
              "      <td>11.6</td>\n",
              "      <td>13.163884</td>\n",
              "      <td>-1.563884</td>\n",
              "    </tr>\n",
              "    <tr>\n",
              "      <th>195</th>\n",
              "      <td>7.6</td>\n",
              "      <td>5.224355</td>\n",
              "      <td>2.375645</td>\n",
              "    </tr>\n",
              "    <tr>\n",
              "      <th>29</th>\n",
              "      <td>10.5</td>\n",
              "      <td>9.288938</td>\n",
              "      <td>1.211062</td>\n",
              "    </tr>\n",
              "    <tr>\n",
              "      <th>19</th>\n",
              "      <td>14.6</td>\n",
              "      <td>14.093307</td>\n",
              "      <td>0.506693</td>\n",
              "    </tr>\n",
              "    <tr>\n",
              "      <th>143</th>\n",
              "      <td>10.4</td>\n",
              "      <td>8.690245</td>\n",
              "      <td>1.709755</td>\n",
              "    </tr>\n",
              "    <tr>\n",
              "      <th>86</th>\n",
              "      <td>12.0</td>\n",
              "      <td>11.661198</td>\n",
              "      <td>0.338802</td>\n",
              "    </tr>\n",
              "    <tr>\n",
              "      <th>114</th>\n",
              "      <td>14.6</td>\n",
              "      <td>15.718484</td>\n",
              "      <td>-1.118484</td>\n",
              "    </tr>\n",
              "    <tr>\n",
              "      <th>173</th>\n",
              "      <td>11.7</td>\n",
              "      <td>11.631569</td>\n",
              "      <td>0.068431</td>\n",
              "    </tr>\n",
              "    <tr>\n",
              "      <th>5</th>\n",
              "      <td>7.2</td>\n",
              "      <td>13.353607</td>\n",
              "      <td>-6.153607</td>\n",
              "    </tr>\n",
              "    <tr>\n",
              "      <th>126</th>\n",
              "      <td>6.6</td>\n",
              "      <td>11.153147</td>\n",
              "      <td>-4.553147</td>\n",
              "    </tr>\n",
              "    <tr>\n",
              "      <th>117</th>\n",
              "      <td>9.4</td>\n",
              "      <td>6.336368</td>\n",
              "      <td>3.063632</td>\n",
              "    </tr>\n",
              "    <tr>\n",
              "      <th>73</th>\n",
              "      <td>11.0</td>\n",
              "      <td>9.761580</td>\n",
              "      <td>1.238420</td>\n",
              "    </tr>\n",
              "    <tr>\n",
              "      <th>140</th>\n",
              "      <td>10.9</td>\n",
              "      <td>9.419571</td>\n",
              "      <td>1.480429</td>\n",
              "    </tr>\n",
              "    <tr>\n",
              "      <th>98</th>\n",
              "      <td>25.4</td>\n",
              "      <td>24.255165</td>\n",
              "      <td>1.144835</td>\n",
              "    </tr>\n",
              "    <tr>\n",
              "      <th>172</th>\n",
              "      <td>7.6</td>\n",
              "      <td>7.695191</td>\n",
              "      <td>-0.095191</td>\n",
              "    </tr>\n",
              "    <tr>\n",
              "      <th>96</th>\n",
              "      <td>11.7</td>\n",
              "      <td>12.153176</td>\n",
              "      <td>-0.453176</td>\n",
              "    </tr>\n",
              "  </tbody>\n",
              "</table>\n",
              "</div>"
            ],
            "text/plain": [
              "     Actual       Pred  Residual\n",
              "95     16.9  16.565396  0.334604\n",
              "15     22.4  21.188228  1.211772\n",
              "30     21.4  21.551071 -0.151071\n",
              "158     7.3  10.889238 -3.589238\n",
              "128    24.7  22.202320  2.497680\n",
              "115    12.6  13.355569 -0.755569\n",
              "69     22.3  21.196925  1.103075\n",
              "170     8.4   7.350285  1.049715\n",
              "174    11.5  13.275471 -1.775471\n",
              "45     14.9  15.124495 -0.224495\n",
              "66      9.5   9.014430  0.485570\n",
              "182     8.7   6.525428  2.174572\n",
              "165    11.9  14.302060 -2.402060\n",
              "78      5.3   8.970260 -3.670260\n",
              "186    10.3   9.456796  0.843204\n",
              "177    11.7  12.004544 -0.304544\n",
              "56      5.5   8.915494 -3.415494\n",
              "152    16.6  16.156193  0.443807\n",
              "82     11.3  10.295829  1.004171\n",
              "68     18.9  18.724736  0.175264\n",
              "124    19.7  19.768218 -0.068218\n",
              "16     12.5  13.774690 -1.274690\n",
              "148    10.9  12.496389 -1.596389\n",
              "93     22.2  21.535018  0.664982\n",
              "65      9.3   7.608607  1.691393\n",
              "60      8.1   5.611980  2.488020\n",
              "84     21.7  20.917595  0.782405\n",
              "67     13.4  11.806277  1.593723\n",
              "125    10.6   9.080766  1.519234\n",
              "132     5.7   8.514120 -2.814120\n",
              "9      10.6  12.176049 -1.576049\n",
              "18     11.3   9.969194  1.330806\n",
              "55     23.7  21.730090  1.969910\n",
              "75      8.7  12.777706 -4.077706\n",
              "150    16.1  18.101136 -2.001136\n",
              "104    20.7  20.075908  0.624092\n",
              "135    11.6  14.262026 -2.662026\n",
              "137    20.8  20.938265 -0.138265\n",
              "164    11.9  10.839388  1.060612\n",
              "76      6.9   4.381906  2.518094\n",
              "79     11.0   9.513324  1.486676\n",
              "197    12.8  12.404863  0.395137\n",
              "38     10.1  10.170454 -0.070454\n",
              "24      9.7   8.090814  1.609186\n",
              "122    11.6  13.163884 -1.563884\n",
              "195     7.6   5.224355  2.375645\n",
              "29     10.5   9.288938  1.211062\n",
              "19     14.6  14.093307  0.506693\n",
              "143    10.4   8.690245  1.709755\n",
              "86     12.0  11.661198  0.338802\n",
              "114    14.6  15.718484 -1.118484\n",
              "173    11.7  11.631569  0.068431\n",
              "5       7.2  13.353607 -6.153607\n",
              "126     6.6  11.153147 -4.553147\n",
              "117     9.4   6.336368  3.063632\n",
              "73     11.0   9.761580  1.238420\n",
              "140    10.9   9.419571  1.480429\n",
              "98     25.4  24.255165  1.144835\n",
              "172     7.6   7.695191 -0.095191\n",
              "96     11.7  12.153176 -0.453176"
            ]
          },
          "execution_count": 32,
          "metadata": {},
          "output_type": "execute_result"
        }
      ],
      "source": [
        "comparing = pd.DataFrame(my_dict) # test sonuçlarını, gerçek değerleri ve arasındaki farklarım olduğu df oluşturuz\n",
        "comparing"
      ]
    },
    {
      "cell_type": "code",
      "execution_count": null,
      "id": "102bd8a1",
      "metadata": {
        "id": "102bd8a1",
        "outputId": "10d0081e-f3c3-4555-a9d1-df3dd19e22fb"
      },
      "outputs": [
        {
          "data": {
            "text/html": [
              "<div>\n",
              "<style scoped>\n",
              "    .dataframe tbody tr th:only-of-type {\n",
              "        vertical-align: middle;\n",
              "    }\n",
              "\n",
              "    .dataframe tbody tr th {\n",
              "        vertical-align: top;\n",
              "    }\n",
              "\n",
              "    .dataframe thead th {\n",
              "        text-align: right;\n",
              "    }\n",
              "</style>\n",
              "<table border=\"1\" class=\"dataframe\">\n",
              "  <thead>\n",
              "    <tr style=\"text-align: right;\">\n",
              "      <th></th>\n",
              "      <th>Actual</th>\n",
              "      <th>Pred</th>\n",
              "      <th>Residual</th>\n",
              "    </tr>\n",
              "  </thead>\n",
              "  <tbody>\n",
              "    <tr>\n",
              "      <th>95</th>\n",
              "      <td>16.9</td>\n",
              "      <td>16.565396</td>\n",
              "      <td>0.334604</td>\n",
              "    </tr>\n",
              "    <tr>\n",
              "      <th>15</th>\n",
              "      <td>22.4</td>\n",
              "      <td>21.188228</td>\n",
              "      <td>1.211772</td>\n",
              "    </tr>\n",
              "    <tr>\n",
              "      <th>30</th>\n",
              "      <td>21.4</td>\n",
              "      <td>21.551071</td>\n",
              "      <td>-0.151071</td>\n",
              "    </tr>\n",
              "    <tr>\n",
              "      <th>158</th>\n",
              "      <td>7.3</td>\n",
              "      <td>10.889238</td>\n",
              "      <td>-3.589238</td>\n",
              "    </tr>\n",
              "    <tr>\n",
              "      <th>128</th>\n",
              "      <td>24.7</td>\n",
              "      <td>22.202320</td>\n",
              "      <td>2.497680</td>\n",
              "    </tr>\n",
              "    <tr>\n",
              "      <th>115</th>\n",
              "      <td>12.6</td>\n",
              "      <td>13.355569</td>\n",
              "      <td>-0.755569</td>\n",
              "    </tr>\n",
              "    <tr>\n",
              "      <th>69</th>\n",
              "      <td>22.3</td>\n",
              "      <td>21.196925</td>\n",
              "      <td>1.103075</td>\n",
              "    </tr>\n",
              "    <tr>\n",
              "      <th>170</th>\n",
              "      <td>8.4</td>\n",
              "      <td>7.350285</td>\n",
              "      <td>1.049715</td>\n",
              "    </tr>\n",
              "    <tr>\n",
              "      <th>174</th>\n",
              "      <td>11.5</td>\n",
              "      <td>13.275471</td>\n",
              "      <td>-1.775471</td>\n",
              "    </tr>\n",
              "    <tr>\n",
              "      <th>45</th>\n",
              "      <td>14.9</td>\n",
              "      <td>15.124495</td>\n",
              "      <td>-0.224495</td>\n",
              "    </tr>\n",
              "    <tr>\n",
              "      <th>66</th>\n",
              "      <td>9.5</td>\n",
              "      <td>9.014430</td>\n",
              "      <td>0.485570</td>\n",
              "    </tr>\n",
              "    <tr>\n",
              "      <th>182</th>\n",
              "      <td>8.7</td>\n",
              "      <td>6.525428</td>\n",
              "      <td>2.174572</td>\n",
              "    </tr>\n",
              "    <tr>\n",
              "      <th>165</th>\n",
              "      <td>11.9</td>\n",
              "      <td>14.302060</td>\n",
              "      <td>-2.402060</td>\n",
              "    </tr>\n",
              "    <tr>\n",
              "      <th>78</th>\n",
              "      <td>5.3</td>\n",
              "      <td>8.970260</td>\n",
              "      <td>-3.670260</td>\n",
              "    </tr>\n",
              "    <tr>\n",
              "      <th>186</th>\n",
              "      <td>10.3</td>\n",
              "      <td>9.456796</td>\n",
              "      <td>0.843204</td>\n",
              "    </tr>\n",
              "  </tbody>\n",
              "</table>\n",
              "</div>"
            ],
            "text/plain": [
              "     Actual       Pred  Residual\n",
              "95     16.9  16.565396  0.334604\n",
              "15     22.4  21.188228  1.211772\n",
              "30     21.4  21.551071 -0.151071\n",
              "158     7.3  10.889238 -3.589238\n",
              "128    24.7  22.202320  2.497680\n",
              "115    12.6  13.355569 -0.755569\n",
              "69     22.3  21.196925  1.103075\n",
              "170     8.4   7.350285  1.049715\n",
              "174    11.5  13.275471 -1.775471\n",
              "45     14.9  15.124495 -0.224495\n",
              "66      9.5   9.014430  0.485570\n",
              "182     8.7   6.525428  2.174572\n",
              "165    11.9  14.302060 -2.402060\n",
              "78      5.3   8.970260 -3.670260\n",
              "186    10.3   9.456796  0.843204"
            ]
          },
          "execution_count": 33,
          "metadata": {},
          "output_type": "execute_result"
        }
      ],
      "source": [
        "result_sample = comparing.head(15)\n",
        "result_sample"
      ]
    },
    {
      "cell_type": "code",
      "execution_count": null,
      "id": "aa5af2b2",
      "metadata": {
        "id": "aa5af2b2",
        "outputId": "fa9f7385-4c46-46f8-cb48-97dda85c6bad"
      },
      "outputs": [
        {
          "data": {
            "image/png": "[encoded data removed]",
            "text/plain": [
              "<Figure size 1500x900 with 1 Axes>"
            ]
          },
          "metadata": {},
          "output_type": "display_data"
        }
      ],
      "source": [
        "result_sample.plot(kind= \"bar\", figsize=(15,9))\n",
        "plt.show() # sonuçlarımıza grafik olarak bakarız Residual'3 değe anormal görünüyor .genel olarak modelin scoru gerçeğe yakın. "
      ]
    },
    {
      "cell_type": "markdown",
      "id": "3f392af8",
      "metadata": {
        "id": "3f392af8"
      },
      "source": [
        "### Error Metrics"
      ]
    },
    {
      "cell_type": "code",
      "execution_count": null,
      "id": "2c219f79",
      "metadata": {
        "id": "2c219f79"
      },
      "outputs": [],
      "source": [
        "from sklearn.metrics import mean_absolute_error, mean_squared_error, r2_score"
      ]
    },
    {
      "cell_type": "code",
      "execution_count": null,
      "id": "1eeee390",
      "metadata": {
        "id": "1eeee390",
        "outputId": "880edadd-b3a9-405f-defd-7ffebaecd68d"
      },
      "outputs": [
        {
          "data": {
            "text/plain": [
              "0.8609466508230367"
            ]
          },
          "execution_count": 36,
          "metadata": {},
          "output_type": "execute_result"
        }
      ],
      "source": [
        "R2_score = r2_score(y_test, y_pred) #y nin gerçek değerini test için ayırdığım y_test değerini ve\n",
        "# ve tahmin edilen değeri (pcnin bulduğu değer => y_pred) değerini istiyor.\n",
        "\n",
        "R2_score # target'taki değişimin ne kadarını açklayabiliyorum(doğru tahmin yapabilmek için gerekli olan bilginin  % 86'sına sahibim)"
      ]
    },
    {
      "cell_type": "code",
      "execution_count": null,
      "id": "b3a521df",
      "metadata": {
        "id": "b3a521df",
        "outputId": "8326f667-6bfb-4a19-f813-7f0e0aa732b6"
      },
      "outputs": [
        {
          "data": {
            "text/plain": [
              "1.511669222454909"
            ]
          },
          "execution_count": 37,
          "metadata": {},
          "output_type": "execute_result"
        }
      ],
      "source": [
        "mae = mean_absolute_error(y_test, y_pred) # mutlak değer alıp topladıktan sonra gözlen sayısına böler \n",
        "mae"
      ]
    },
    {
      "cell_type": "code",
      "execution_count": null,
      "id": "25b3b18c",
      "metadata": {
        "id": "25b3b18c",
        "outputId": "d4366671-5789-4be4-8896-afc557014e7c"
      },
      "outputs": [
        {
          "data": {
            "text/plain": [
              "3.7967972367152227"
            ]
          },
          "execution_count": 38,
          "metadata": {},
          "output_type": "execute_result"
        }
      ],
      "source": [
        "mse = mean_squared_error(y_test, y_pred) # residual karesini alıp toplar sonra ortalamasını alır \n",
        "# dez avantajı birimlerinde karesini aldığı için yorumlanması zor olur \n",
        "mse"
      ]
    },
    {
      "cell_type": "code",
      "execution_count": null,
      "id": "f0a48a49",
      "metadata": {
        "scrolled": true,
        "id": "f0a48a49",
        "outputId": "ba506956-ccdb-4949-a4b7-0a7c5e627489"
      },
      "outputs": [
        {
          "data": {
            "text/plain": [
              "1.9485372043446394"
            ]
          },
          "execution_count": 39,
          "metadata": {},
          "output_type": "execute_result"
        }
      ],
      "source": [
        "rmse = np.sqrt(mean_squared_error(y_test, y_pred)) # yukarıdaki mse'nin dezavantajjını gidermek için karekökünü alırız.cezalandırma netleşir. \n",
        "rmse"
      ]
    },
    {
      "cell_type": "markdown",
      "id": "c1c0f01e",
      "metadata": {
        "id": "c1c0f01e"
      },
      "source": [
        "Not: mse ile rmse değerler arasında ciddi fark varsa modelim düzgün çalışmıyor demektir."
      ]
    },
    {
      "cell_type": "code",
      "execution_count": null,
      "id": "aad7cf54",
      "metadata": {
        "id": "aad7cf54",
        "outputId": "1dda1758-5b9d-44c0-e398-72a97e25bfd4"
      },
      "outputs": [
        {
          "data": {
            "text/plain": [
              "14.022500000000003"
            ]
          },
          "execution_count": 40,
          "metadata": {},
          "output_type": "execute_result"
        }
      ],
      "source": [
        "sales_mean = df[\"sales\"].mean()\n",
        "sales_mean"
      ]
    },
    {
      "cell_type": "code",
      "execution_count": null,
      "id": "c2c033b1",
      "metadata": {
        "id": "c2c033b1",
        "outputId": "54d563c2-3c30-4969-8cae-dcda3694f4ee"
      },
      "outputs": [
        {
          "data": {
            "text/plain": [
              "0.10780311802138769"
            ]
          },
          "execution_count": 41,
          "metadata": {},
          "output_type": "execute_result"
        }
      ],
      "source": [
        "mae / sales_mean  # mae salesin ortalaması na bktığımızda hata %10 yani modelim % 90 doğru tahmin yapıyor"
      ]
    },
    {
      "cell_type": "code",
      "execution_count": null,
      "id": "0b9fd824",
      "metadata": {
        "id": "0b9fd824",
        "outputId": "6b32d291-4e23-4b9d-a93f-a2f710390ada"
      },
      "outputs": [
        {
          "data": {
            "text/plain": [
              "0.13895790367941802"
            ]
          },
          "execution_count": 42,
          "metadata": {},
          "output_type": "execute_result"
        }
      ],
      "source": [
        "rmse / sales_mean  # rmse salesin ortalamasına baktığımızda hata %13 yani modelim % 87 doğru tahmin yapıyor"
      ]
    },
    {
      "cell_type": "markdown",
      "id": "16aba5d4",
      "metadata": {
        "id": "16aba5d4"
      },
      "source": [
        "### Adjusted R2 score\n",
        "düzeltilmiş r2 skorudur, feature eklediğimizde gözlem sayısınıda eklememiz gerek, 1 feature ye 10-15 gözlem eklenir, eğer gözlem eklenmezse yalancı iyileşme olur adjR2 Score feature ile observation dengeler. çok fazla kullanımayacak. \n",
        "amaç minumum gözlemle maximum sonucu almak.\n"
      ]
    },
    {
      "cell_type": "code",
      "execution_count": null,
      "id": "0d785fad",
      "metadata": {
        "id": "0d785fad"
      },
      "outputs": [],
      "source": [
        "def adj_r2(y_test, y_pred, df):\n",
        "    r2 = r2_score(y_test, y_pred)\n",
        "    n = df.shape[0]  # number of observations\n",
        "    p = df.shape[1]-1 # number of independent variables (-1 ile bağımlı değişkeni çıksrıyoruz)\n",
        "    adj_r2 = 1 - (1-r2)*(n-1)/(n-p-1)\n",
        "    return adj_r2"
      ]
    },
    {
      "cell_type": "code",
      "execution_count": null,
      "id": "922e267e",
      "metadata": {
        "id": "922e267e",
        "outputId": "ac56f9ad-06d4-40af-b546-e836cb34c70e"
      },
      "outputs": [
        {
          "data": {
            "text/plain": [
              "0.8588182832335933"
            ]
          },
          "execution_count": 44,
          "metadata": {},
          "output_type": "execute_result"
        }
      ],
      "source": [
        "adj_r2(y_test, y_pred, df)"
      ]
    },
    {
      "cell_type": "markdown",
      "id": "e3212e85",
      "metadata": {
        "id": "e3212e85"
      },
      "source": [
        "## What is the concept of punishment for RMSE error metric?¶"
      ]
    },
    {
      "cell_type": "code",
      "execution_count": null,
      "id": "dc4a2047",
      "metadata": {
        "id": "dc4a2047"
      },
      "outputs": [],
      "source": [
        "\n",
        "variables = {\"Actual\": [1000, 2000, 3000, 4000, 5000], \"pred\": [1100, 2200, 3200, 4200, 5300]}"
      ]
    },
    {
      "cell_type": "code",
      "execution_count": null,
      "id": "0f44de39",
      "metadata": {
        "id": "0f44de39",
        "outputId": "4449f90e-c113-45e0-db73-f5ce322e8207"
      },
      "outputs": [
        {
          "data": {
            "text/html": [
              "<div>\n",
              "<style scoped>\n",
              "    .dataframe tbody tr th:only-of-type {\n",
              "        vertical-align: middle;\n",
              "    }\n",
              "\n",
              "    .dataframe tbody tr th {\n",
              "        vertical-align: top;\n",
              "    }\n",
              "\n",
              "    .dataframe thead th {\n",
              "        text-align: right;\n",
              "    }\n",
              "</style>\n",
              "<table border=\"1\" class=\"dataframe\">\n",
              "  <thead>\n",
              "    <tr style=\"text-align: right;\">\n",
              "      <th></th>\n",
              "      <th>Actual</th>\n",
              "      <th>pred</th>\n",
              "    </tr>\n",
              "  </thead>\n",
              "  <tbody>\n",
              "    <tr>\n",
              "      <th>0</th>\n",
              "      <td>1000</td>\n",
              "      <td>1100</td>\n",
              "    </tr>\n",
              "    <tr>\n",
              "      <th>1</th>\n",
              "      <td>2000</td>\n",
              "      <td>2200</td>\n",
              "    </tr>\n",
              "    <tr>\n",
              "      <th>2</th>\n",
              "      <td>3000</td>\n",
              "      <td>3200</td>\n",
              "    </tr>\n",
              "    <tr>\n",
              "      <th>3</th>\n",
              "      <td>4000</td>\n",
              "      <td>4200</td>\n",
              "    </tr>\n",
              "    <tr>\n",
              "      <th>4</th>\n",
              "      <td>5000</td>\n",
              "      <td>5300</td>\n",
              "    </tr>\n",
              "  </tbody>\n",
              "</table>\n",
              "</div>"
            ],
            "text/plain": [
              "   Actual  pred\n",
              "0    1000  1100\n",
              "1    2000  2200\n",
              "2    3000  3200\n",
              "3    4000  4200\n",
              "4    5000  5300"
            ]
          },
          "execution_count": 46,
          "metadata": {},
          "output_type": "execute_result"
        }
      ],
      "source": [
        "df_2 = pd.DataFrame(variables)\n",
        "df_2"
      ]
    },
    {
      "cell_type": "code",
      "execution_count": null,
      "id": "eca018a4",
      "metadata": {
        "id": "eca018a4"
      },
      "outputs": [],
      "source": [
        "df_2[\"residual\"] = abs(df_2.Actual - df_2.pred)\n",
        "# abs Docstring: Return the absolute value of the argument.builtin_function_or_method"
      ]
    },
    {
      "cell_type": "code",
      "execution_count": null,
      "id": "dda069bf",
      "metadata": {
        "id": "dda069bf",
        "outputId": "98d96a7a-fbcb-44ce-87cd-b9545ab0a574"
      },
      "outputs": [
        {
          "data": {
            "text/html": [
              "<div>\n",
              "<style scoped>\n",
              "    .dataframe tbody tr th:only-of-type {\n",
              "        vertical-align: middle;\n",
              "    }\n",
              "\n",
              "    .dataframe tbody tr th {\n",
              "        vertical-align: top;\n",
              "    }\n",
              "\n",
              "    .dataframe thead th {\n",
              "        text-align: right;\n",
              "    }\n",
              "</style>\n",
              "<table border=\"1\" class=\"dataframe\">\n",
              "  <thead>\n",
              "    <tr style=\"text-align: right;\">\n",
              "      <th></th>\n",
              "      <th>Actual</th>\n",
              "      <th>pred</th>\n",
              "      <th>residual</th>\n",
              "    </tr>\n",
              "  </thead>\n",
              "  <tbody>\n",
              "    <tr>\n",
              "      <th>0</th>\n",
              "      <td>1000</td>\n",
              "      <td>1100</td>\n",
              "      <td>100</td>\n",
              "    </tr>\n",
              "    <tr>\n",
              "      <th>1</th>\n",
              "      <td>2000</td>\n",
              "      <td>2200</td>\n",
              "      <td>200</td>\n",
              "    </tr>\n",
              "    <tr>\n",
              "      <th>2</th>\n",
              "      <td>3000</td>\n",
              "      <td>3200</td>\n",
              "      <td>200</td>\n",
              "    </tr>\n",
              "    <tr>\n",
              "      <th>3</th>\n",
              "      <td>4000</td>\n",
              "      <td>4200</td>\n",
              "      <td>200</td>\n",
              "    </tr>\n",
              "    <tr>\n",
              "      <th>4</th>\n",
              "      <td>5000</td>\n",
              "      <td>5300</td>\n",
              "      <td>300</td>\n",
              "    </tr>\n",
              "  </tbody>\n",
              "</table>\n",
              "</div>"
            ],
            "text/plain": [
              "   Actual  pred  residual\n",
              "0    1000  1100       100\n",
              "1    2000  2200       200\n",
              "2    3000  3200       200\n",
              "3    4000  4200       200\n",
              "4    5000  5300       300"
            ]
          },
          "execution_count": 48,
          "metadata": {},
          "output_type": "execute_result"
        }
      ],
      "source": [
        "df_2"
      ]
    },
    {
      "cell_type": "code",
      "execution_count": null,
      "id": "172a30c7",
      "metadata": {
        "id": "172a30c7",
        "outputId": "eb5eec2d-92fa-44a3-92c1-6c440220af38"
      },
      "outputs": [
        {
          "data": {
            "text/plain": [
              "200.0"
            ]
          },
          "execution_count": 49,
          "metadata": {},
          "output_type": "execute_result"
        }
      ],
      "source": [
        "#mae\n",
        "df_2.residual.sum()/5 #200"
      ]
    },
    {
      "cell_type": "code",
      "execution_count": null,
      "id": "ca3601c5",
      "metadata": {
        "id": "ca3601c5",
        "outputId": "c1d4d8d7-54b0-4d72-c35f-14da13f8807e"
      },
      "outputs": [
        {
          "data": {
            "text/plain": [
              "209.76176963403032"
            ]
          },
          "execution_count": 50,
          "metadata": {},
          "output_type": "execute_result"
        }
      ],
      "source": [
        "#rmse\n",
        "((df_2.residual**2).sum()/5)**0.5 #209.76"
      ]
    },
    {
      "cell_type": "markdown",
      "id": "b97a4938",
      "metadata": {
        "id": "b97a4938"
      },
      "source": [
        "### eval_metric"
      ]
    },
    {
      "cell_type": "code",
      "execution_count": null,
      "id": "60f68abc",
      "metadata": {
        "id": "60f68abc"
      },
      "outputs": [],
      "source": [
        "# tek fonksiyonla  bütün errorları return ederiz \n",
        "def eval_metric(actual, pred):\n",
        "    mae = mean_absolute_error(actual, pred)\n",
        "    mse = mean_squared_error(actual, pred)\n",
        "    rmse = np.sqrt(mean_squared_error(actual, pred))\n",
        "    R2_score = r2_score(actual,pred)\n",
        "    print(\"Model testing performance\")\n",
        "    print(\"--------------------------\")\n",
        "    print(f\"R_score \\t: {R2_score}\")\n",
        "    print(f\"MAE \\t\\t: {mae}\")\n",
        "    print(f\"MSE \\t\\t: {mse}\")\n",
        "    print(f\"RMSE \\t\\t: {rmse}\")"
      ]
    },
    {
      "cell_type": "code",
      "execution_count": null,
      "id": "6e18166d",
      "metadata": {
        "scrolled": true,
        "id": "6e18166d",
        "outputId": "bdcb21e6-0117-4550-df6a-90b25eadd907"
      },
      "outputs": [
        {
          "name": "stdout",
          "output_type": "stream",
          "text": [
            "Model testing performance\n",
            "--------------------------\n",
            "R_score \t: 0.8609466508230367\n",
            "MAE \t\t: 1.511669222454909\n",
            "MSE \t\t: 3.7967972367152227\n",
            "RMSE \t\t: 1.9485372043446394\n"
          ]
        }
      ],
      "source": [
        "eval_metric(y_test, y_pred)"
      ]
    },
    {
      "cell_type": "markdown",
      "id": "102ca8e0",
      "metadata": {
        "id": "102ca8e0"
      },
      "source": [
        "## önemli:\n",
        "y_train_pred = model.predict(X_train)    \n",
        " * burada yaptığımız.modelimin ne kadar iyi sonuç verdiğini görmek için modelimi eğittiğim data ile kontrol ediiyoruz.\n",
        "çıkan sonuç ile tahmindeki sonuçlar yakınsa modelim iyi düzgün çalışıyor genelleme yapabiliyor yani ezberlememiş."
      ]
    },
    {
      "cell_type": "code",
      "execution_count": null,
      "id": "8da82ec4",
      "metadata": {
        "id": "8da82ec4"
      },
      "outputs": [],
      "source": [
        "y_train_pred = model.predict(X_train) # burada yaptığımız.modelimin ne kadar iyi sonuç verdiğini görmek için modelimi eğittiğim data ile kontrol ediiyoruz.\n",
        "# çıkan sonuç ile tahmindeki sonuçlar yakınsa modelim iyi düzgün çalışıyor genelleme yapabiliyor yani ezberlememiş."
      ]
    },
    {
      "cell_type": "code",
      "execution_count": null,
      "id": "ea0051f9",
      "metadata": {
        "id": "ea0051f9",
        "outputId": "52fd13aa-efe8-4030-be25-ba9e71d35e68"
      },
      "outputs": [
        {
          "name": "stdout",
          "output_type": "stream",
          "text": [
            "Model testing performance\n",
            "--------------------------\n",
            "R_score \t: 0.9055159502227753\n",
            "MAE \t\t: 1.1581502948072528\n",
            "MSE \t\t: 2.4793551789057866\n",
            "RMSE \t\t: 1.574596830590544\n"
          ]
        }
      ],
      "source": [
        "eval_metric(y_train, y_train_pred)"
      ]
    },
    {
      "cell_type": "markdown",
      "id": "4ee20d30",
      "metadata": {
        "id": "4ee20d30"
      },
      "source": [
        "## Is data suitable for linear regression?¶\n",
        "https://stats.stackexchange.com/questions/12262/what-if-residuals-are-normally-distributed-but-y-is-not\n",
        "\n",
        "### Plotting residuals"
      ]
    },
    {
      "cell_type": "markdown",
      "id": "98a51c61",
      "metadata": {
        "id": "98a51c61"
      },
      "source": [
        "bir datanın LR uygun olup olmadığına bakmak için residual'ın normal dağılıma yakın olup olmadığı bakarız. 0 çizgisinin hem altında ve üstündeki bölgeye gözlemler eşit dağılmış olacak ve rasgele dağılım olması gerekir. bağımsız değişken ve target dağılımlar aynıysa skorları iyileştirir. "
      ]
    },
    {
      "cell_type": "code",
      "execution_count": null,
      "id": "62b8c5a5",
      "metadata": {
        "id": "62b8c5a5"
      },
      "outputs": [],
      "source": [
        "residuals = y_test-y_pred"
      ]
    },
    {
      "cell_type": "code",
      "execution_count": null,
      "id": "4d008a74",
      "metadata": {
        "id": "4d008a74",
        "outputId": "172d7d97-0672-4388-e969-4a2a0c562acd"
      },
      "outputs": [
        {
          "data": {
            "image/png": "[encoded data removed]",
            "text/plain": [
              "<Figure size 1000x600 with 1 Axes>"
            ]
          },
          "metadata": {},
          "output_type": "display_data"
        }
      ],
      "source": [
        "plt.figure(figsize = (10,6))\n",
        "sns.scatterplot(x = y_test, y = residuals) #-residuals\n",
        "plt.axhline(y = 0, color =\"r\", linestyle = \"--\")\n",
        "plt.ylabel(\"residuals\")\n",
        "plt.show()"
      ]
    },
    {
      "cell_type": "code",
      "execution_count": null,
      "id": "e6719552",
      "metadata": {
        "id": "e6719552",
        "outputId": "d16dc61f-2f7a-4060-a911-bd2be9755f84"
      },
      "outputs": [
        {
          "data": {
            "image/png": "[encoded data removed]",
            "text/plain": [
              "<Figure size 1000x600 with 1 Axes>"
            ]
          },
          "metadata": {},
          "output_type": "display_data"
        }
      ],
      "source": [
        "sns.kdeplot(residuals)\n",
        "plt.show()"
      ]
    },
    {
      "cell_type": "code",
      "execution_count": null,
      "id": "5537da4a",
      "metadata": {
        "id": "5537da4a",
        "outputId": "38703393-a86a-4587-8c85-d713f9b9fdb5"
      },
      "outputs": [
        {
          "data": {
            "image/png": "[encoded data removed]",
            "text/plain": [
              "<Figure size 1000x600 with 1 Axes>"
            ]
          },
          "metadata": {},
          "output_type": "display_data"
        }
      ],
      "source": [
        "stats.probplot(residuals, dist =\"norm\", plot =plt); #  stats kütüpanesinin içinde dagılım grafiği probplot ile çizdiğimizde dağılımlar \n",
        "                                                    # çizgiyi sarmalıyorsa dağılım normaldir \n",
        "plt.show()"
      ]
    },
    {
      "cell_type": "code",
      "execution_count": null,
      "id": "388e072a",
      "metadata": {
        "id": "388e072a",
        "outputId": "181cce4d-734f-481d-a5e8-74bb44847e97"
      },
      "outputs": [
        {
          "data": {
            "text/plain": [
              "-0.9865673346742728"
            ]
          },
          "execution_count": 65,
          "metadata": {},
          "output_type": "execute_result"
        }
      ],
      "source": [
        "from scipy .stats import skew\n",
        "skew(residuals)"
      ]
    },
    {
      "cell_type": "code",
      "execution_count": null,
      "id": "d6c55546",
      "metadata": {
        "collapsed": true,
        "id": "d6c55546",
        "outputId": "917eeab8-24a7-45f4-cada-1641de91e0b2"
      },
      "outputs": [
        {
          "name": "stdout",
          "output_type": "stream",
          "text": [
            "Note: you may need to restart the kernel to use updated packages.\n"
          ]
        },
        {
          "name": "stderr",
          "output_type": "stream",
          "text": [
            "ERROR: Invalid requirement: '#'\n"
          ]
        }
      ],
      "source": [
        "pip install yellowbrick # Ml' kullanılan görselleştirme kütüpanesi"
      ]
    },
    {
      "cell_type": "code",
      "execution_count": null,
      "id": "742a8e85",
      "metadata": {
        "id": "742a8e85"
      },
      "outputs": [],
      "source": [
        "from yellowbrick.regressor import ResidualsPlot"
      ]
    },
    {
      "cell_type": "code",
      "execution_count": null,
      "id": "5ad5f048",
      "metadata": {
        "id": "5ad5f048",
        "outputId": "e6edbfa5-bf55-469e-f51c-dda6f5bba238"
      },
      "outputs": [
        {
          "data": {
            "image/png": "[encoded data removed]",
            "text/plain": [
              "<Figure size 1000x600 with 2 Axes>"
            ]
          },
          "metadata": {},
          "output_type": "display_data"
        }
      ],
      "source": [
        "# Instantiate the linear model and visualizer\n",
        "model = LinearRegression()\n",
        "visualizer = ResidualsPlot(model)\n",
        "\n",
        "visualizer.fit(X_train, y_train)  # Fit the training data to the visualizer\n",
        "visualizer.score(X_test, y_test)  # Evaluate the model on the test data\n",
        "visualizer.show();        # Finalize and render the figure\n",
        "# fit ve score'ları alıp plot return ediyor"
      ]
    },
    {
      "cell_type": "markdown",
      "id": "00a77b78",
      "metadata": {
        "id": "00a77b78"
      },
      "source": [
        "## Prediction Error for LinearRegression"
      ]
    },
    {
      "cell_type": "code",
      "execution_count": null,
      "id": "329f25a8",
      "metadata": {
        "id": "329f25a8"
      },
      "outputs": [],
      "source": [
        "from yellowbrick.regressor import PredictionError"
      ]
    },
    {
      "cell_type": "code",
      "execution_count": null,
      "id": "506d2dfb",
      "metadata": {
        "id": "506d2dfb",
        "outputId": "b9fc2df0-630a-4316-b57c-f7d370d0f953"
      },
      "outputs": [
        {
          "data": {
            "image/png": "[encoded data removed]",
            "text/plain": [
              "<Figure size 1000x600 with 1 Axes>"
            ]
          },
          "metadata": {},
          "output_type": "display_data"
        }
      ],
      "source": [
        "model = LinearRegression()\n",
        "visualizer = PredictionError(model)\n",
        "\n",
        "visualizer.fit(X_train, y_train)  # Fit the training data to the visualizer\n",
        "visualizer.score(X_test, y_test)  # Evaluate the model on the test data\n",
        "visualizer.show(); \n",
        "\n",
        "# grafikteki  45 derecelik silik çizgi ideal fit line  diğeride bizim hesapladığımız best fit R2_score = 0.861"
      ]
    },
    {
      "cell_type": "markdown",
      "id": "2e089cc5",
      "metadata": {
        "id": "2e089cc5"
      },
      "source": [
        "## Retraining Model on Full Data\n",
        "\n",
        "Tüm datayı eğitim modeline veriyoruz modelimizin datanın hepsinde nasıl sonuç verecek  "
      ]
    },
    {
      "cell_type": "code",
      "execution_count": null,
      "id": "d15abba5",
      "metadata": {
        "id": "d15abba5",
        "outputId": "1749bb4a-82f9-4349-a09a-5c31426845a3"
      },
      "outputs": [
        {
          "data": {
            "text/plain": [
              "LinearRegression()"
            ]
          },
          "execution_count": 76,
          "metadata": {},
          "output_type": "execute_result"
        }
      ],
      "source": [
        "final_model = LinearRegression()\n",
        "final_model.fit(X, y) "
      ]
    },
    {
      "cell_type": "code",
      "execution_count": null,
      "id": "43475afa",
      "metadata": {
        "id": "43475afa",
        "outputId": "9a3f8637-df48-4eff-af9e-8ea51aa152ea"
      },
      "outputs": [
        {
          "data": {
            "text/plain": [
              "array([ 0.04576465,  0.18853002, -0.00103749])"
            ]
          },
          "execution_count": 77,
          "metadata": {},
          "output_type": "execute_result"
        }
      ],
      "source": [
        "# Coefficients katsayıları\n",
        "final_model.coef_\n",
        "\n",
        "#final_model.intercept_"
      ]
    },
    {
      "cell_type": "code",
      "execution_count": null,
      "id": "da0a0910",
      "metadata": {
        "id": "da0a0910",
        "outputId": "3a128413-36a4-4aa3-fd91-bee16adf8bf1"
      },
      "outputs": [
        {
          "data": {
            "text/plain": [
              "2.9388893694594085"
            ]
          },
          "execution_count": 79,
          "metadata": {},
          "output_type": "execute_result"
        }
      ],
      "source": [
        "final_model.intercept_"
      ]
    },
    {
      "cell_type": "code",
      "execution_count": null,
      "id": "ecb7829c",
      "metadata": {
        "id": "ecb7829c",
        "outputId": "b5f7f9b5-7151-41df-9433-7df411889816"
      },
      "outputs": [
        {
          "data": {
            "text/html": [
              "<div>\n",
              "<style scoped>\n",
              "    .dataframe tbody tr th:only-of-type {\n",
              "        vertical-align: middle;\n",
              "    }\n",
              "\n",
              "    .dataframe tbody tr th {\n",
              "        vertical-align: top;\n",
              "    }\n",
              "\n",
              "    .dataframe thead th {\n",
              "        text-align: right;\n",
              "    }\n",
              "</style>\n",
              "<table border=\"1\" class=\"dataframe\">\n",
              "  <thead>\n",
              "    <tr style=\"text-align: right;\">\n",
              "      <th></th>\n",
              "      <th>TV</th>\n",
              "      <th>radio</th>\n",
              "      <th>newspaper</th>\n",
              "      <th>sales</th>\n",
              "    </tr>\n",
              "  </thead>\n",
              "  <tbody>\n",
              "    <tr>\n",
              "      <th>0</th>\n",
              "      <td>230.1</td>\n",
              "      <td>37.8</td>\n",
              "      <td>69.2</td>\n",
              "      <td>22.1</td>\n",
              "    </tr>\n",
              "    <tr>\n",
              "      <th>1</th>\n",
              "      <td>44.5</td>\n",
              "      <td>39.3</td>\n",
              "      <td>45.1</td>\n",
              "      <td>10.4</td>\n",
              "    </tr>\n",
              "    <tr>\n",
              "      <th>2</th>\n",
              "      <td>17.2</td>\n",
              "      <td>45.9</td>\n",
              "      <td>69.3</td>\n",
              "      <td>9.3</td>\n",
              "    </tr>\n",
              "    <tr>\n",
              "      <th>3</th>\n",
              "      <td>151.5</td>\n",
              "      <td>41.3</td>\n",
              "      <td>58.5</td>\n",
              "      <td>18.5</td>\n",
              "    </tr>\n",
              "    <tr>\n",
              "      <th>4</th>\n",
              "      <td>180.8</td>\n",
              "      <td>10.8</td>\n",
              "      <td>58.4</td>\n",
              "      <td>12.9</td>\n",
              "    </tr>\n",
              "  </tbody>\n",
              "</table>\n",
              "</div>"
            ],
            "text/plain": [
              "      TV  radio  newspaper  sales\n",
              "0  230.1   37.8       69.2   22.1\n",
              "1   44.5   39.3       45.1   10.4\n",
              "2   17.2   45.9       69.3    9.3\n",
              "3  151.5   41.3       58.5   18.5\n",
              "4  180.8   10.8       58.4   12.9"
            ]
          },
          "execution_count": 80,
          "metadata": {},
          "output_type": "execute_result"
        }
      ],
      "source": [
        "df.head()"
      ]
    },
    {
      "cell_type": "code",
      "execution_count": null,
      "id": "4eca4d33",
      "metadata": {
        "id": "4eca4d33"
      },
      "outputs": [],
      "source": [
        "coeff_df = pd.DataFrame(final_model.coef_, index = X.columns, columns = [\"Coefficient\"] )\n"
      ]
    },
    {
      "cell_type": "code",
      "execution_count": null,
      "id": "6ece05fd",
      "metadata": {
        "id": "6ece05fd",
        "outputId": "929f4c83-ea5a-419e-e7cd-5e9c0a0d6878"
      },
      "outputs": [
        {
          "data": {
            "text/html": [
              "<div>\n",
              "<style scoped>\n",
              "    .dataframe tbody tr th:only-of-type {\n",
              "        vertical-align: middle;\n",
              "    }\n",
              "\n",
              "    .dataframe tbody tr th {\n",
              "        vertical-align: top;\n",
              "    }\n",
              "\n",
              "    .dataframe thead th {\n",
              "        text-align: right;\n",
              "    }\n",
              "</style>\n",
              "<table border=\"1\" class=\"dataframe\">\n",
              "  <thead>\n",
              "    <tr style=\"text-align: right;\">\n",
              "      <th></th>\n",
              "      <th>Coefficient</th>\n",
              "    </tr>\n",
              "  </thead>\n",
              "  <tbody>\n",
              "    <tr>\n",
              "      <th>TV</th>\n",
              "      <td>0.045765</td>\n",
              "    </tr>\n",
              "    <tr>\n",
              "      <th>radio</th>\n",
              "      <td>0.188530</td>\n",
              "    </tr>\n",
              "    <tr>\n",
              "      <th>newspaper</th>\n",
              "      <td>-0.001037</td>\n",
              "    </tr>\n",
              "  </tbody>\n",
              "</table>\n",
              "</div>"
            ],
            "text/plain": [
              "           Coefficient\n",
              "TV            0.045765\n",
              "radio         0.188530\n",
              "newspaper    -0.001037"
            ]
          },
          "execution_count": 89,
          "metadata": {},
          "output_type": "execute_result"
        }
      ],
      "source": [
        "coeff_df"
      ]
    },
    {
      "cell_type": "markdown",
      "id": "eb308b76",
      "metadata": {
        "id": "eb308b76"
      },
      "source": [
        "## Prediction on New Data"
      ]
    },
    {
      "cell_type": "code",
      "execution_count": null,
      "id": "5373ad42",
      "metadata": {
        "id": "5373ad42"
      },
      "outputs": [],
      "source": [
        "adv = [[150,20,15]] # yeni data ile tahmin yapıyoruz, test eğitim datalaır kaç boyutlu ise yeni tahmin datasıda aynı boyutta olacak iki boyutlu olduğu için [[]] paratez ile return ederiz"
      ]
    },
    {
      "cell_type": "code",
      "execution_count": null,
      "id": "041e4ead",
      "metadata": {
        "id": "041e4ead",
        "outputId": "37afeea4-4d6a-4461-ea32-f66e809cee81"
      },
      "outputs": [
        {
          "data": {
            "text/plain": [
              "[[150, 20, 15]]"
            ]
          },
          "execution_count": 93,
          "metadata": {},
          "output_type": "execute_result"
        }
      ],
      "source": [
        "adv"
      ]
    },
    {
      "cell_type": "code",
      "execution_count": null,
      "id": "df6e4804",
      "metadata": {
        "id": "df6e4804",
        "outputId": "de66849e-015b-4779-f8e1-4466dd84d7a9"
      },
      "outputs": [
        {
          "data": {
            "text/plain": [
              "array([13.55862413])"
            ]
          },
          "execution_count": 94,
          "metadata": {},
          "output_type": "execute_result"
        }
      ],
      "source": [
        "final_model.predict(adv)"
      ]
    },
    {
      "cell_type": "code",
      "execution_count": null,
      "id": "e4863bfc",
      "metadata": {
        "id": "e4863bfc",
        "outputId": "8f81107d-2a50-417d-8488-1acb4c194d98"
      },
      "outputs": [
        {
          "data": {
            "text/plain": [
              "array([ 0.04576465,  0.18853002, -0.00103749])"
            ]
          },
          "execution_count": 96,
          "metadata": {},
          "output_type": "execute_result"
        }
      ],
      "source": [
        "final_model.coef_"
      ]
    },
    {
      "cell_type": "code",
      "execution_count": null,
      "id": "83192b75",
      "metadata": {
        "id": "83192b75",
        "outputId": "5a1a1654-c5f5-4da6-dc19-f423656eb80a"
      },
      "outputs": [
        {
          "data": {
            "text/plain": [
              "2.9388893694594085"
            ]
          },
          "execution_count": 97,
          "metadata": {},
          "output_type": "execute_result"
        }
      ],
      "source": [
        "final_model.intercept_"
      ]
    },
    {
      "cell_type": "code",
      "execution_count": null,
      "id": "9f667c20",
      "metadata": {
        "id": "9f667c20",
        "outputId": "34c72044-073b-44bc-f46c-34b17b243755"
      },
      "outputs": [
        {
          "data": {
            "text/plain": [
              "13.558624130495994"
            ]
          },
          "execution_count": 98,
          "metadata": {},
          "output_type": "execute_result"
        }
      ],
      "source": [
        "sum(final_model.coef_ * [150, 20, 15]) + final_model.intercept_  # yeni datanın değerini manuel olarak salamasını yaptık."
      ]
    },
    {
      "cell_type": "code",
      "execution_count": null,
      "id": "e5b16ee9",
      "metadata": {
        "id": "e5b16ee9"
      },
      "outputs": [],
      "source": [
        "adv_2 = [[150, 20, 15], [160, 20, 15]] # iki data verdik fakat ikinci data da 150 yerine 160 "
      ]
    },
    {
      "cell_type": "code",
      "execution_count": null,
      "id": "d9955118",
      "metadata": {
        "id": "d9955118",
        "outputId": "0535dfa3-8ef3-4d98-9acd-7c9d3766f6a9"
      },
      "outputs": [
        {
          "data": {
            "text/plain": [
              "array([13.55862413, 14.01627059])"
            ]
          },
          "execution_count": 102,
          "metadata": {},
          "output_type": "execute_result"
        }
      ],
      "source": [
        "final_model.predict(adv_2) # ikindi data 10 birim arttı (tv feature) "
      ]
    },
    {
      "cell_type": "code",
      "execution_count": null,
      "id": "a18d47c8",
      "metadata": {
        "id": "a18d47c8",
        "outputId": "8aa89886-c7e7-413c-87ca-dd5d87467080"
      },
      "outputs": [
        {
          "data": {
            "text/plain": [
              "0.4576464599999994"
            ]
          },
          "execution_count": 103,
          "metadata": {},
          "output_type": "execute_result"
        }
      ],
      "source": [
        "14.01627059 - 13.55862413 # tv nin coef degeri 10 kat arttı 0.04576464 ==> 0.457464 oldu"
      ]
    },
    {
      "cell_type": "markdown",
      "id": "54bdb658",
      "metadata": {
        "id": "54bdb658"
      },
      "source": [
        "## The effect of features on the predicted label"
      ]
    },
    {
      "cell_type": "code",
      "execution_count": null,
      "id": "3a6c8e8d",
      "metadata": {
        "id": "3a6c8e8d",
        "outputId": "ef4ad285-cfbd-4527-905f-db7146177b5a"
      },
      "outputs": [
        {
          "data": {
            "text/html": [
              "<div>\n",
              "<style scoped>\n",
              "    .dataframe tbody tr th:only-of-type {\n",
              "        vertical-align: middle;\n",
              "    }\n",
              "\n",
              "    .dataframe tbody tr th {\n",
              "        vertical-align: top;\n",
              "    }\n",
              "\n",
              "    .dataframe thead th {\n",
              "        text-align: right;\n",
              "    }\n",
              "</style>\n",
              "<table border=\"1\" class=\"dataframe\">\n",
              "  <thead>\n",
              "    <tr style=\"text-align: right;\">\n",
              "      <th></th>\n",
              "      <th>Coefficient</th>\n",
              "    </tr>\n",
              "  </thead>\n",
              "  <tbody>\n",
              "    <tr>\n",
              "      <th>TV</th>\n",
              "      <td>0.045765</td>\n",
              "    </tr>\n",
              "    <tr>\n",
              "      <th>radio</th>\n",
              "      <td>0.188530</td>\n",
              "    </tr>\n",
              "    <tr>\n",
              "      <th>newspaper</th>\n",
              "      <td>-0.001037</td>\n",
              "    </tr>\n",
              "  </tbody>\n",
              "</table>\n",
              "</div>"
            ],
            "text/plain": [
              "           Coefficient\n",
              "TV            0.045765\n",
              "radio         0.188530\n",
              "newspaper    -0.001037"
            ]
          },
          "execution_count": 105,
          "metadata": {},
          "output_type": "execute_result"
        }
      ],
      "source": [
        "coeff_df"
      ]
    },
    {
      "cell_type": "code",
      "execution_count": null,
      "id": "9a3572aa",
      "metadata": {
        "id": "9a3572aa",
        "outputId": "37fb515c-888e-4dec-b6df-4d21ffab1cc7"
      },
      "outputs": [
        {
          "data": {
            "text/plain": [
              "TV           0.045765\n",
              "radio        0.188530\n",
              "newspaper   -0.001037\n",
              "Name: Coefficient, dtype: float64"
            ]
          },
          "execution_count": 106,
          "metadata": {},
          "output_type": "execute_result"
        }
      ],
      "source": [
        "coeff_df.Coefficient "
      ]
    },
    {
      "cell_type": "code",
      "execution_count": null,
      "id": "dcb1a1b3",
      "metadata": {
        "id": "dcb1a1b3",
        "outputId": "621ef496-8b86-41e1-b8ac-021d31748c73"
      },
      "outputs": [
        {
          "data": {
            "text/plain": [
              "[150, 20, 15]"
            ]
          },
          "execution_count": 107,
          "metadata": {},
          "output_type": "execute_result"
        }
      ],
      "source": [
        "adv[0]"
      ]
    },
    {
      "cell_type": "code",
      "execution_count": null,
      "id": "e2c51ef7",
      "metadata": {
        "id": "e2c51ef7",
        "outputId": "7fcb68eb-dedb-49ce-f79d-d6922149b316"
      },
      "outputs": [
        {
          "data": {
            "text/plain": [
              "TV           6.864697\n",
              "radio        3.770600\n",
              "newspaper   -0.015562\n",
              "Name: Coefficient, dtype: float64"
            ]
          },
          "execution_count": 108,
          "metadata": {},
          "output_type": "execute_result"
        }
      ],
      "source": [
        "coeff_df.Coefficient * adv[0]"
      ]
    },
    {
      "cell_type": "code",
      "execution_count": null,
      "id": "dbd72486",
      "metadata": {
        "id": "dbd72486",
        "outputId": "f0704591-1f3d-4c67-b810-e98b8a539d68"
      },
      "outputs": [
        {
          "data": {
            "text/plain": [
              "0.5062974630892729"
            ]
          },
          "execution_count": 109,
          "metadata": {},
          "output_type": "execute_result"
        }
      ],
      "source": [
        "6.864697 / 13.55862413"
      ]
    },
    {
      "cell_type": "code",
      "execution_count": null,
      "id": "25b74017",
      "metadata": {
        "id": "25b74017",
        "outputId": "61fba7f1-2122-45e3-b38f-6173edf163a1"
      },
      "outputs": [
        {
          "data": {
            "text/plain": [
              "0.2780960637191142"
            ]
          },
          "execution_count": 110,
          "metadata": {},
          "output_type": "execute_result"
        }
      ],
      "source": [
        "3.770600 / 13.55862413"
      ]
    },
    {
      "cell_type": "code",
      "execution_count": null,
      "id": "cd849d37",
      "metadata": {
        "id": "cd849d37",
        "outputId": "689e21c9-af88-4f27-aa6b-26c9eaf8e347"
      },
      "outputs": [
        {
          "data": {
            "text/plain": [
              "-0.0011477565755043907"
            ]
          },
          "execution_count": 111,
          "metadata": {},
          "output_type": "execute_result"
        }
      ],
      "source": [
        "-0.015562 / 13.55862413"
      ]
    },
    {
      "cell_type": "code",
      "execution_count": null,
      "id": "f0f84924",
      "metadata": {
        "id": "f0f84924"
      },
      "outputs": [],
      "source": [
        ""
      ]
    }
  ],
  "metadata": {
    "kernelspec": {
      "display_name": "Python 3",
      "language": "python",
      "name": "python3"
    },
    "language_info": {
      "codemirror_mode": {
        "name": "ipython",
        "version": 3
      },
      "file_extension": ".py",
      "mimetype": "text/x-python",
      "name": "python",
      "nbconvert_exporter": "python",
      "pygments_lexer": "ipython3",
      "version": "3.8.8"
    },
    "colab": {
      "name": "2_ML  Multiple Linear Regression and Regression Error Metrics.ipynb",
      "provenance": [],
      "include_colab_link": true
    }
  },
  "nbformat": 4,
  "nbformat_minor": 5
}