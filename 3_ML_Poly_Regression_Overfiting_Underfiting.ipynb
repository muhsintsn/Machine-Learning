{
  "cells": [
    {
      "cell_type": "markdown",
      "metadata": {
        "id": "view-in-github",
        "colab_type": "text"
      },
      "source": [
        "<a href=\"https://colab.research.google.com/github/muhsintsn/Machine-Learning/blob/main/3_ML_Poly_Regression_Overfiting_Underfiting.ipynb\" target=\"_parent\"><img src=\"https://colab.research.google.com/assets/colab-badge.svg\" alt=\"Open In Colab\"/></a>"
      ]
    },
    {
      "cell_type": "markdown",
      "id": "liquid-victory",
      "metadata": {
        "id": "liquid-victory"
      },
      "source": [
        "## Poly Regression (çoklu regresyon)\n",
        "### Overfiting-Underfiting"
      ]
    },
    {
      "cell_type": "raw",
      "id": "47e96979",
      "metadata": {
        "id": "47e96979"
      },
      "source": [
        "Polynomial Regression is a form of regression analysis in which the relationship between the independent variables and dependent variables are modeled in the nth degree polynomial.\n",
        "\n",
        "Polinom Regresyon , bağımsız değişkenler ile bağımlı değişkenler arasındaki ilişkinin n'inci derece polinomda modellendiği bir regresyon analizi şeklidir.\n",
        "\n",
        "Types of polinomials\n",
        "\n",
        "1st degree ---> linear    b1x + b0\n",
        "\n",
        "2nd degree ---> Quadratic b2x**2 + b1x + b0\n",
        "\n",
        "3rd degree ---> Cubic     b3x**3 + b2x**2 + b1x + b0"
      ]
    },
    {
      "cell_type": "markdown",
      "id": "instrumental-plate",
      "metadata": {
        "id": "instrumental-plate"
      },
      "source": [
        "![image-3.png](attachment:image-3.png)\n",
        "\n",
        "![image-4.png](attachment:image-4.png)\n",
        "\n",
        "![image.png](attachment:image.png)"
      ]
    },
    {
      "cell_type": "markdown",
      "id": "wanted-external",
      "metadata": {
        "id": "wanted-external"
      },
      "source": [
        "## Import libraries"
      ]
    },
    {
      "cell_type": "code",
      "execution_count": null,
      "id": "faced-stranger",
      "metadata": {
        "id": "faced-stranger"
      },
      "outputs": [],
      "source": [
        "import numpy as np\n",
        "import pandas as pd\n",
        "import matplotlib.pyplot as plt\n",
        "import seaborn as sns\n",
        "plt.rcParams[\"figure.figsize\"] = (10,6)"
      ]
    },
    {
      "cell_type": "markdown",
      "id": "whole-bulgaria",
      "metadata": {
        "id": "whole-bulgaria"
      },
      "source": [
        "## Polynomial Features"
      ]
    },
    {
      "cell_type": "code",
      "execution_count": null,
      "id": "proud-technician",
      "metadata": {
        "id": "proud-technician"
      },
      "outputs": [],
      "source": [
        "from sklearn.preprocessing import PolynomialFeatures"
      ]
    },
    {
      "cell_type": "code",
      "execution_count": null,
      "id": "willing-deposit",
      "metadata": {
        "id": "willing-deposit",
        "outputId": "21407725-eab4-42fa-fc06-73dda159dd4d"
      },
      "outputs": [
        {
          "name": "stdout",
          "output_type": "stream",
          "text": [
            "[[2 3 4]]\n"
          ]
        }
      ],
      "source": [
        "data = np.array([[2,3,4]]) \n",
        "print(data)"
      ]
    },
    {
      "cell_type": "code",
      "execution_count": null,
      "id": "olive-launch",
      "metadata": {
        "id": "olive-launch"
      },
      "outputs": [],
      "source": [
        "trans = PolynomialFeatures(degree= 2, include_bias =False) # data yı 2 dereceden Polynomial Features üreteceğim "
      ]
    },
    {
      "cell_type": "code",
      "execution_count": null,
      "id": "understanding-torture",
      "metadata": {
        "id": "understanding-torture",
        "outputId": "4d7434fc-28e4-4173-e088-228a1671ba21"
      },
      "outputs": [
        {
          "data": {
            "text/plain": [
              "PolynomialFeatures(include_bias=False)"
            ]
          },
          "execution_count": 96,
          "metadata": {},
          "output_type": "execute_result"
        }
      ],
      "source": [
        "trans.fit(data) # 2, 3, 4 , 2x3, 2x4, 3x4, 2**2, 3**2, 4**2 işlemini yapacak buradaki fit feature eng. işlemini yapacak memorye aldı iişlem yapılmadı"
      ]
    },
    {
      "cell_type": "code",
      "execution_count": null,
      "id": "5d9bd62f",
      "metadata": {
        "id": "5d9bd62f"
      },
      "outputs": [],
      "source": [
        "# degree 3 yapınca hem feature sayısı artıyor hemde işlemin yorumlanması zorlaşıyor işler karmaşıklaşıyor\n",
        "# 2, 3, 4, 2x3, 2x4, 3x4, 2**2, 3**2, 4**2, 2x3x4, 3x2**2, 4x2**2, 2x3**2, 4x3**2, 2x4**2, 3x4**2, 2**3, 3**3, 4**3"
      ]
    },
    {
      "cell_type": "code",
      "execution_count": null,
      "id": "exposed-sphere",
      "metadata": {
        "id": "exposed-sphere",
        "outputId": "9c23a7ec-c83e-469d-9a3b-50d90e34df23"
      },
      "outputs": [
        {
          "data": {
            "text/plain": [
              "array([[ 2.,  3.,  4.,  4.,  6.,  8.,  9., 12., 16.]])"
            ]
          },
          "execution_count": 98,
          "metadata": {},
          "output_type": "execute_result"
        }
      ],
      "source": [
        "trans.transform(data) # 2, 3, 4 , 2x3, 2x4, 3x4, 2**2, 3**2, 4**2 bu şekilde 2.dereceye çevirdi transform işlemi tamamladı."
      ]
    },
    {
      "cell_type": "code",
      "execution_count": null,
      "id": "elder-assist",
      "metadata": {
        "id": "elder-assist",
        "outputId": "d2e07301-bf17-44b7-b743-d8e0b3050e96"
      },
      "outputs": [
        {
          "data": {
            "text/plain": [
              "array([[ 2.,  3.,  4.,  4.,  6.,  8.,  9., 12., 16.]])"
            ]
          },
          "execution_count": 99,
          "metadata": {},
          "output_type": "execute_result"
        }
      ],
      "source": [
        "trans.fit_transform(data) # yukarıdaki iki işlemi tek metodla yapılabilyor "
      ]
    },
    {
      "cell_type": "markdown",
      "id": "listed-startup",
      "metadata": {
        "id": "listed-startup"
      },
      "source": [
        "## Read Dataset"
      ]
    },
    {
      "cell_type": "code",
      "execution_count": null,
      "id": "valued-brand",
      "metadata": {
        "id": "valued-brand"
      },
      "outputs": [],
      "source": [
        "df = pd.read_csv(\"Advertising.csv\")"
      ]
    },
    {
      "cell_type": "code",
      "execution_count": null,
      "id": "taken-taylor",
      "metadata": {
        "id": "taken-taylor",
        "outputId": "229288f7-5148-457d-96ce-6c98d4cfebcd"
      },
      "outputs": [
        {
          "data": {
            "text/html": [
              "<div>\n",
              "<style scoped>\n",
              "    .dataframe tbody tr th:only-of-type {\n",
              "        vertical-align: middle;\n",
              "    }\n",
              "\n",
              "    .dataframe tbody tr th {\n",
              "        vertical-align: top;\n",
              "    }\n",
              "\n",
              "    .dataframe thead th {\n",
              "        text-align: right;\n",
              "    }\n",
              "</style>\n",
              "<table border=\"1\" class=\"dataframe\">\n",
              "  <thead>\n",
              "    <tr style=\"text-align: right;\">\n",
              "      <th></th>\n",
              "      <th>TV</th>\n",
              "      <th>radio</th>\n",
              "      <th>newspaper</th>\n",
              "      <th>sales</th>\n",
              "    </tr>\n",
              "  </thead>\n",
              "  <tbody>\n",
              "    <tr>\n",
              "      <th>0</th>\n",
              "      <td>230.1</td>\n",
              "      <td>37.8</td>\n",
              "      <td>69.2</td>\n",
              "      <td>22.1</td>\n",
              "    </tr>\n",
              "    <tr>\n",
              "      <th>1</th>\n",
              "      <td>44.5</td>\n",
              "      <td>39.3</td>\n",
              "      <td>45.1</td>\n",
              "      <td>10.4</td>\n",
              "    </tr>\n",
              "    <tr>\n",
              "      <th>2</th>\n",
              "      <td>17.2</td>\n",
              "      <td>45.9</td>\n",
              "      <td>69.3</td>\n",
              "      <td>9.3</td>\n",
              "    </tr>\n",
              "    <tr>\n",
              "      <th>3</th>\n",
              "      <td>151.5</td>\n",
              "      <td>41.3</td>\n",
              "      <td>58.5</td>\n",
              "      <td>18.5</td>\n",
              "    </tr>\n",
              "    <tr>\n",
              "      <th>4</th>\n",
              "      <td>180.8</td>\n",
              "      <td>10.8</td>\n",
              "      <td>58.4</td>\n",
              "      <td>12.9</td>\n",
              "    </tr>\n",
              "    <tr>\n",
              "      <th>...</th>\n",
              "      <td>...</td>\n",
              "      <td>...</td>\n",
              "      <td>...</td>\n",
              "      <td>...</td>\n",
              "    </tr>\n",
              "    <tr>\n",
              "      <th>195</th>\n",
              "      <td>38.2</td>\n",
              "      <td>3.7</td>\n",
              "      <td>13.8</td>\n",
              "      <td>7.6</td>\n",
              "    </tr>\n",
              "    <tr>\n",
              "      <th>196</th>\n",
              "      <td>94.2</td>\n",
              "      <td>4.9</td>\n",
              "      <td>8.1</td>\n",
              "      <td>9.7</td>\n",
              "    </tr>\n",
              "    <tr>\n",
              "      <th>197</th>\n",
              "      <td>177.0</td>\n",
              "      <td>9.3</td>\n",
              "      <td>6.4</td>\n",
              "      <td>12.8</td>\n",
              "    </tr>\n",
              "    <tr>\n",
              "      <th>198</th>\n",
              "      <td>283.6</td>\n",
              "      <td>42.0</td>\n",
              "      <td>66.2</td>\n",
              "      <td>25.5</td>\n",
              "    </tr>\n",
              "    <tr>\n",
              "      <th>199</th>\n",
              "      <td>232.1</td>\n",
              "      <td>8.6</td>\n",
              "      <td>8.7</td>\n",
              "      <td>13.4</td>\n",
              "    </tr>\n",
              "  </tbody>\n",
              "</table>\n",
              "<p>200 rows × 4 columns</p>\n",
              "</div>"
            ],
            "text/plain": [
              "        TV  radio  newspaper  sales\n",
              "0    230.1   37.8       69.2   22.1\n",
              "1     44.5   39.3       45.1   10.4\n",
              "2     17.2   45.9       69.3    9.3\n",
              "3    151.5   41.3       58.5   18.5\n",
              "4    180.8   10.8       58.4   12.9\n",
              "..     ...    ...        ...    ...\n",
              "195   38.2    3.7       13.8    7.6\n",
              "196   94.2    4.9        8.1    9.7\n",
              "197  177.0    9.3        6.4   12.8\n",
              "198  283.6   42.0       66.2   25.5\n",
              "199  232.1    8.6        8.7   13.4\n",
              "\n",
              "[200 rows x 4 columns]"
            ]
          },
          "execution_count": 101,
          "metadata": {},
          "output_type": "execute_result"
        }
      ],
      "source": [
        "df"
      ]
    },
    {
      "cell_type": "markdown",
      "id": "declared-leave",
      "metadata": {
        "id": "declared-leave"
      },
      "source": [
        "## Polynomial Converter (Polynomial çevirici)"
      ]
    },
    {
      "cell_type": "code",
      "execution_count": null,
      "id": "invalid-northern",
      "metadata": {
        "id": "invalid-northern"
      },
      "outputs": [],
      "source": [
        "X = df.drop(\"sales\", axis =1)\n",
        "y = df.sales"
      ]
    },
    {
      "cell_type": "code",
      "execution_count": null,
      "id": "continued-karma",
      "metadata": {
        "id": "continued-karma"
      },
      "outputs": [],
      "source": [
        "poly_conv = PolynomialFeatures(degree= 2 , include_bias = False)"
      ]
    },
    {
      "cell_type": "code",
      "execution_count": null,
      "id": "reasonable-german",
      "metadata": {
        "id": "reasonable-german",
        "outputId": "454e476e-496e-4516-fd6a-1ca0404edb7e"
      },
      "outputs": [
        {
          "data": {
            "text/plain": [
              "PolynomialFeatures(include_bias=False)"
            ]
          },
          "execution_count": 104,
          "metadata": {},
          "output_type": "execute_result"
        }
      ],
      "source": [
        "poly_conv.fit(X) "
      ]
    },
    {
      "cell_type": "code",
      "execution_count": null,
      "id": "pointed-violin",
      "metadata": {
        "id": "pointed-violin"
      },
      "outputs": [],
      "source": [
        "poly_features =poly_conv.transform(X) #Polynomial feaure çevirdik"
      ]
    },
    {
      "cell_type": "code",
      "execution_count": null,
      "id": "operational-stevens",
      "metadata": {
        "id": "operational-stevens",
        "outputId": "ead74306-075f-4d1d-98da-86d6410495ed"
      },
      "outputs": [
        {
          "data": {
            "text/plain": [
              "array([[ 230.1 ,   37.8 ,   69.2 , ..., 1428.84, 2615.76, 4788.64],\n",
              "       [  44.5 ,   39.3 ,   45.1 , ..., 1544.49, 1772.43, 2034.01],\n",
              "       [  17.2 ,   45.9 ,   69.3 , ..., 2106.81, 3180.87, 4802.49],\n",
              "       ...,\n",
              "       [ 177.  ,    9.3 ,    6.4 , ...,   86.49,   59.52,   40.96],\n",
              "       [ 283.6 ,   42.  ,   66.2 , ..., 1764.  , 2780.4 , 4382.44],\n",
              "       [ 232.1 ,    8.6 ,    8.7 , ...,   73.96,   74.82,   75.69]])"
            ]
          },
          "execution_count": 106,
          "metadata": {},
          "output_type": "execute_result"
        }
      ],
      "source": [
        "poly_features"
      ]
    },
    {
      "cell_type": "code",
      "execution_count": null,
      "id": "numerical-conclusion",
      "metadata": {
        "id": "numerical-conclusion",
        "outputId": "56053fd7-43ad-47b6-fb24-46bdbec042e7"
      },
      "outputs": [
        {
          "data": {
            "text/plain": [
              "(200, 9)"
            ]
          },
          "execution_count": 107,
          "metadata": {},
          "output_type": "execute_result"
        }
      ],
      "source": [
        "poly_features.shape #satır sayım 200 kaldı fakat sütun yani features 3 ten 9 oldu"
      ]
    },
    {
      "cell_type": "code",
      "execution_count": null,
      "id": "moderate-works",
      "metadata": {
        "id": "moderate-works",
        "outputId": "2be109fc-d8fd-4930-881f-f698c2d6b979"
      },
      "outputs": [
        {
          "data": {
            "text/html": [
              "<div>\n",
              "<style scoped>\n",
              "    .dataframe tbody tr th:only-of-type {\n",
              "        vertical-align: middle;\n",
              "    }\n",
              "\n",
              "    .dataframe tbody tr th {\n",
              "        vertical-align: top;\n",
              "    }\n",
              "\n",
              "    .dataframe thead th {\n",
              "        text-align: right;\n",
              "    }\n",
              "</style>\n",
              "<table border=\"1\" class=\"dataframe\">\n",
              "  <thead>\n",
              "    <tr style=\"text-align: right;\">\n",
              "      <th></th>\n",
              "      <th>TV</th>\n",
              "      <th>radio</th>\n",
              "      <th>newspaper</th>\n",
              "      <th>TV^2</th>\n",
              "      <th>TV&amp;Radio</th>\n",
              "      <th>TV&amp;Newspaper</th>\n",
              "      <th>Radio^2</th>\n",
              "      <th>Radio&amp;newspaper</th>\n",
              "      <th>Newspaper^2</th>\n",
              "    </tr>\n",
              "  </thead>\n",
              "  <tbody>\n",
              "    <tr>\n",
              "      <th>0</th>\n",
              "      <td>230.1</td>\n",
              "      <td>37.8</td>\n",
              "      <td>69.2</td>\n",
              "      <td>52946.01</td>\n",
              "      <td>8697.78</td>\n",
              "      <td>15922.92</td>\n",
              "      <td>1428.84</td>\n",
              "      <td>2615.76</td>\n",
              "      <td>4788.64</td>\n",
              "    </tr>\n",
              "    <tr>\n",
              "      <th>1</th>\n",
              "      <td>44.5</td>\n",
              "      <td>39.3</td>\n",
              "      <td>45.1</td>\n",
              "      <td>1980.25</td>\n",
              "      <td>1748.85</td>\n",
              "      <td>2006.95</td>\n",
              "      <td>1544.49</td>\n",
              "      <td>1772.43</td>\n",
              "      <td>2034.01</td>\n",
              "    </tr>\n",
              "    <tr>\n",
              "      <th>2</th>\n",
              "      <td>17.2</td>\n",
              "      <td>45.9</td>\n",
              "      <td>69.3</td>\n",
              "      <td>295.84</td>\n",
              "      <td>789.48</td>\n",
              "      <td>1191.96</td>\n",
              "      <td>2106.81</td>\n",
              "      <td>3180.87</td>\n",
              "      <td>4802.49</td>\n",
              "    </tr>\n",
              "    <tr>\n",
              "      <th>3</th>\n",
              "      <td>151.5</td>\n",
              "      <td>41.3</td>\n",
              "      <td>58.5</td>\n",
              "      <td>22952.25</td>\n",
              "      <td>6256.95</td>\n",
              "      <td>8862.75</td>\n",
              "      <td>1705.69</td>\n",
              "      <td>2416.05</td>\n",
              "      <td>3422.25</td>\n",
              "    </tr>\n",
              "    <tr>\n",
              "      <th>4</th>\n",
              "      <td>180.8</td>\n",
              "      <td>10.8</td>\n",
              "      <td>58.4</td>\n",
              "      <td>32688.64</td>\n",
              "      <td>1952.64</td>\n",
              "      <td>10558.72</td>\n",
              "      <td>116.64</td>\n",
              "      <td>630.72</td>\n",
              "      <td>3410.56</td>\n",
              "    </tr>\n",
              "  </tbody>\n",
              "</table>\n",
              "</div>"
            ],
            "text/plain": [
              "      TV  radio  newspaper      TV^2  TV&Radio  TV&Newspaper  Radio^2  \\\n",
              "0  230.1   37.8       69.2  52946.01   8697.78      15922.92  1428.84   \n",
              "1   44.5   39.3       45.1   1980.25   1748.85       2006.95  1544.49   \n",
              "2   17.2   45.9       69.3    295.84    789.48       1191.96  2106.81   \n",
              "3  151.5   41.3       58.5  22952.25   6256.95       8862.75  1705.69   \n",
              "4  180.8   10.8       58.4  32688.64   1952.64      10558.72   116.64   \n",
              "\n",
              "   Radio&newspaper  Newspaper^2  \n",
              "0          2615.76      4788.64  \n",
              "1          1772.43      2034.01  \n",
              "2          3180.87      4802.49  \n",
              "3          2416.05      3422.25  \n",
              "4           630.72      3410.56  "
            ]
          },
          "execution_count": 108,
          "metadata": {},
          "output_type": "execute_result"
        }
      ],
      "source": [
        "pd.DataFrame(poly_features, columns =[\"TV\", \"radio\", \"newspaper\", \"TV^2\", \"TV&Radio\", \\\n",
        "                                   \"TV&Newspaper\", \"Radio^2\", \"Radio&newspaper\", \"Newspaper^2\"]).head()\n",
        "# yeni feature leri df ile yeni isin verdik df olarak return ettik"
      ]
    },
    {
      "cell_type": "code",
      "execution_count": null,
      "id": "radio-panic",
      "metadata": {
        "id": "radio-panic",
        "outputId": "37223efd-c68e-4615-eaca-633a9503907e"
      },
      "outputs": [
        {
          "data": {
            "text/plain": [
              "(200, 3)"
            ]
          },
          "execution_count": 109,
          "metadata": {},
          "output_type": "execute_result"
        }
      ],
      "source": [
        "X.shape"
      ]
    },
    {
      "cell_type": "markdown",
      "id": "unique-hours",
      "metadata": {
        "id": "unique-hours"
      },
      "source": [
        "## Train | Test Split"
      ]
    },
    {
      "cell_type": "code",
      "execution_count": null,
      "id": "planned-uniform",
      "metadata": {
        "id": "planned-uniform"
      },
      "outputs": [],
      "source": [
        "from sklearn.model_selection import train_test_split"
      ]
    },
    {
      "cell_type": "code",
      "execution_count": null,
      "id": "enormous-cemetery",
      "metadata": {
        "id": "enormous-cemetery"
      },
      "outputs": [],
      "source": [
        "X_train, X_test, y_train, y_test = train_test_split(poly_features, y, test_size= 0.3, random_state= 101)\n",
        "# X olarak yeni oluşturduğum poly_features datasını veriyoruz. "
      ]
    },
    {
      "cell_type": "markdown",
      "id": "proud-district",
      "metadata": {
        "id": "proud-district"
      },
      "source": [
        "## Model for fitting modelimizi eğitiyoruz"
      ]
    },
    {
      "cell_type": "code",
      "execution_count": null,
      "id": "indie-nightlife",
      "metadata": {
        "id": "indie-nightlife"
      },
      "outputs": [],
      "source": [
        "from sklearn.linear_model import LinearRegression"
      ]
    },
    {
      "cell_type": "code",
      "execution_count": null,
      "id": "2769ebb3",
      "metadata": {
        "id": "2769ebb3"
      },
      "outputs": [],
      "source": [
        "model_poly = LinearRegression()"
      ]
    },
    {
      "cell_type": "code",
      "execution_count": null,
      "id": "critical-comparison",
      "metadata": {
        "id": "critical-comparison",
        "outputId": "a5634f89-fad8-4190-a463-a0dc42bd058b"
      },
      "outputs": [
        {
          "data": {
            "text/plain": [
              "LinearRegression()"
            ]
          },
          "execution_count": 114,
          "metadata": {},
          "output_type": "execute_result"
        }
      ],
      "source": [
        "model_poly.fit(X_train, y_train)"
      ]
    },
    {
      "cell_type": "code",
      "execution_count": null,
      "id": "charitable-savings",
      "metadata": {
        "id": "charitable-savings"
      },
      "outputs": [],
      "source": [
        "y_pred = model_poly.predict(X_test)"
      ]
    },
    {
      "cell_type": "code",
      "execution_count": null,
      "id": "tough-edinburgh",
      "metadata": {
        "id": "tough-edinburgh",
        "outputId": "3507739b-743c-4233-fb5b-db14824cb5a4"
      },
      "outputs": [
        {
          "data": {
            "text/html": [
              "<div>\n",
              "<style scoped>\n",
              "    .dataframe tbody tr th:only-of-type {\n",
              "        vertical-align: middle;\n",
              "    }\n",
              "\n",
              "    .dataframe tbody tr th {\n",
              "        vertical-align: top;\n",
              "    }\n",
              "\n",
              "    .dataframe thead th {\n",
              "        text-align: right;\n",
              "    }\n",
              "</style>\n",
              "<table border=\"1\" class=\"dataframe\">\n",
              "  <thead>\n",
              "    <tr style=\"text-align: right;\">\n",
              "      <th></th>\n",
              "      <th>Actual</th>\n",
              "      <th>pred</th>\n",
              "      <th>residual</th>\n",
              "    </tr>\n",
              "  </thead>\n",
              "  <tbody>\n",
              "    <tr>\n",
              "      <th>37</th>\n",
              "      <td>14.7</td>\n",
              "      <td>13.948562</td>\n",
              "      <td>0.751438</td>\n",
              "    </tr>\n",
              "    <tr>\n",
              "      <th>109</th>\n",
              "      <td>19.8</td>\n",
              "      <td>19.334803</td>\n",
              "      <td>0.465197</td>\n",
              "    </tr>\n",
              "    <tr>\n",
              "      <th>31</th>\n",
              "      <td>11.9</td>\n",
              "      <td>12.319282</td>\n",
              "      <td>-0.419282</td>\n",
              "    </tr>\n",
              "    <tr>\n",
              "      <th>89</th>\n",
              "      <td>16.7</td>\n",
              "      <td>16.762863</td>\n",
              "      <td>-0.062863</td>\n",
              "    </tr>\n",
              "    <tr>\n",
              "      <th>66</th>\n",
              "      <td>9.5</td>\n",
              "      <td>7.902109</td>\n",
              "      <td>1.597891</td>\n",
              "    </tr>\n",
              "    <tr>\n",
              "      <th>119</th>\n",
              "      <td>6.6</td>\n",
              "      <td>6.941438</td>\n",
              "      <td>-0.341438</td>\n",
              "    </tr>\n",
              "    <tr>\n",
              "      <th>54</th>\n",
              "      <td>20.2</td>\n",
              "      <td>20.133727</td>\n",
              "      <td>0.066273</td>\n",
              "    </tr>\n",
              "    <tr>\n",
              "      <th>74</th>\n",
              "      <td>17.0</td>\n",
              "      <td>17.500927</td>\n",
              "      <td>-0.500927</td>\n",
              "    </tr>\n",
              "    <tr>\n",
              "      <th>145</th>\n",
              "      <td>10.3</td>\n",
              "      <td>10.568890</td>\n",
              "      <td>-0.268890</td>\n",
              "    </tr>\n",
              "    <tr>\n",
              "      <th>142</th>\n",
              "      <td>20.1</td>\n",
              "      <td>20.125518</td>\n",
              "      <td>-0.025518</td>\n",
              "    </tr>\n",
              "    <tr>\n",
              "      <th>148</th>\n",
              "      <td>10.9</td>\n",
              "      <td>9.446145</td>\n",
              "      <td>1.453855</td>\n",
              "    </tr>\n",
              "    <tr>\n",
              "      <th>112</th>\n",
              "      <td>14.1</td>\n",
              "      <td>14.099354</td>\n",
              "      <td>0.000646</td>\n",
              "    </tr>\n",
              "    <tr>\n",
              "      <th>174</th>\n",
              "      <td>11.5</td>\n",
              "      <td>12.055135</td>\n",
              "      <td>-0.555135</td>\n",
              "    </tr>\n",
              "    <tr>\n",
              "      <th>55</th>\n",
              "      <td>23.7</td>\n",
              "      <td>23.392540</td>\n",
              "      <td>0.307460</td>\n",
              "    </tr>\n",
              "    <tr>\n",
              "      <th>141</th>\n",
              "      <td>19.2</td>\n",
              "      <td>19.675084</td>\n",
              "      <td>-0.475084</td>\n",
              "    </tr>\n",
              "    <tr>\n",
              "      <th>149</th>\n",
              "      <td>10.1</td>\n",
              "      <td>9.156263</td>\n",
              "      <td>0.943737</td>\n",
              "    </tr>\n",
              "    <tr>\n",
              "      <th>25</th>\n",
              "      <td>12.0</td>\n",
              "      <td>12.116373</td>\n",
              "      <td>-0.116373</td>\n",
              "    </tr>\n",
              "    <tr>\n",
              "      <th>34</th>\n",
              "      <td>9.5</td>\n",
              "      <td>9.281496</td>\n",
              "      <td>0.218504</td>\n",
              "    </tr>\n",
              "    <tr>\n",
              "      <th>170</th>\n",
              "      <td>8.4</td>\n",
              "      <td>8.446040</td>\n",
              "      <td>-0.046040</td>\n",
              "    </tr>\n",
              "    <tr>\n",
              "      <th>39</th>\n",
              "      <td>21.5</td>\n",
              "      <td>21.655881</td>\n",
              "      <td>-0.155881</td>\n",
              "    </tr>\n",
              "  </tbody>\n",
              "</table>\n",
              "</div>"
            ],
            "text/plain": [
              "     Actual       pred  residual\n",
              "37     14.7  13.948562  0.751438\n",
              "109    19.8  19.334803  0.465197\n",
              "31     11.9  12.319282 -0.419282\n",
              "89     16.7  16.762863 -0.062863\n",
              "66      9.5   7.902109  1.597891\n",
              "119     6.6   6.941438 -0.341438\n",
              "54     20.2  20.133727  0.066273\n",
              "74     17.0  17.500927 -0.500927\n",
              "145    10.3  10.568890 -0.268890\n",
              "142    20.1  20.125518 -0.025518\n",
              "148    10.9   9.446145  1.453855\n",
              "112    14.1  14.099354  0.000646\n",
              "174    11.5  12.055135 -0.555135\n",
              "55     23.7  23.392540  0.307460\n",
              "141    19.2  19.675084 -0.475084\n",
              "149    10.1   9.156263  0.943737\n",
              "25     12.0  12.116373 -0.116373\n",
              "34      9.5   9.281496  0.218504\n",
              "170     8.4   8.446040 -0.046040\n",
              "39     21.5  21.655881 -0.155881"
            ]
          },
          "execution_count": 116,
          "metadata": {},
          "output_type": "execute_result"
        }
      ],
      "source": [
        "my_dict = {\"Actual\": y_test, \"pred\": y_pred, \"residual\": y_test-y_pred}\n",
        "compare = pd.DataFrame(my_dict)\n",
        "compare.head(20)"
      ]
    },
    {
      "cell_type": "code",
      "execution_count": null,
      "id": "eleven-nursing",
      "metadata": {
        "id": "eleven-nursing",
        "outputId": "9a2a1a92-1ca6-467c-8bb4-62523dcadd79"
      },
      "outputs": [
        {
          "data": {
            "image/png": "[encoded data removed]",
            "text/plain": [
              "<Figure size 1500x900 with 1 Axes>"
            ]
          },
          "metadata": {},
          "output_type": "display_data"
        }
      ],
      "source": [
        "compare.head(20).plot(kind=\"bar\", figsize=(15,9))\n",
        "plt.show();"
      ]
    },
    {
      "cell_type": "markdown",
      "id": "smart-program",
      "metadata": {
        "id": "smart-program"
      },
      "source": [
        "## Poly Coefficients katsayılarını bakalım "
      ]
    },
    {
      "cell_type": "code",
      "execution_count": null,
      "id": "cathedral-february",
      "metadata": {
        "id": "cathedral-february",
        "outputId": "a9dce72b-e65f-44a3-c77b-0ee80ecdf476"
      },
      "outputs": [
        {
          "data": {
            "text/plain": [
              "array([ 5.17095811e-02,  1.30848864e-02,  1.20000085e-02, -1.10892474e-04,\n",
              "        1.14212673e-03, -5.24100082e-05,  3.34919737e-05,  1.46380310e-04,\n",
              "       -3.04715806e-05])"
            ]
          },
          "execution_count": 118,
          "metadata": {},
          "output_type": "execute_result"
        }
      ],
      "source": [
        "model_poly.coef_"
      ]
    },
    {
      "cell_type": "code",
      "execution_count": null,
      "id": "configured-chemistry",
      "metadata": {
        "id": "configured-chemistry"
      },
      "outputs": [],
      "source": [
        "df_coef = pd.DataFrame(model_poly.coef_, index = [\"TV\", \"radio\", \"newspaper\", \"TV^2\", \"TV&Radio\", \\\n",
        "                                   \"TV&Newspaper\", \"Radio^2\", \"Radio&newspaper\", \"Newspaper^2\"], columns = [\"coef\"])\n"
      ]
    },
    {
      "cell_type": "code",
      "execution_count": null,
      "id": "packed-parameter",
      "metadata": {
        "id": "packed-parameter",
        "outputId": "f7cb1252-aaaa-4c54-ab8f-4ae231015b6d"
      },
      "outputs": [
        {
          "data": {
            "text/html": [
              "<div>\n",
              "<style scoped>\n",
              "    .dataframe tbody tr th:only-of-type {\n",
              "        vertical-align: middle;\n",
              "    }\n",
              "\n",
              "    .dataframe tbody tr th {\n",
              "        vertical-align: top;\n",
              "    }\n",
              "\n",
              "    .dataframe thead th {\n",
              "        text-align: right;\n",
              "    }\n",
              "</style>\n",
              "<table border=\"1\" class=\"dataframe\">\n",
              "  <thead>\n",
              "    <tr style=\"text-align: right;\">\n",
              "      <th></th>\n",
              "      <th>coef</th>\n",
              "    </tr>\n",
              "  </thead>\n",
              "  <tbody>\n",
              "    <tr>\n",
              "      <th>TV</th>\n",
              "      <td>0.051710</td>\n",
              "    </tr>\n",
              "    <tr>\n",
              "      <th>radio</th>\n",
              "      <td>0.013085</td>\n",
              "    </tr>\n",
              "    <tr>\n",
              "      <th>newspaper</th>\n",
              "      <td>0.012000</td>\n",
              "    </tr>\n",
              "    <tr>\n",
              "      <th>TV^2</th>\n",
              "      <td>-0.000111</td>\n",
              "    </tr>\n",
              "    <tr>\n",
              "      <th>TV&amp;Radio</th>\n",
              "      <td>0.001142</td>\n",
              "    </tr>\n",
              "    <tr>\n",
              "      <th>TV&amp;Newspaper</th>\n",
              "      <td>-0.000052</td>\n",
              "    </tr>\n",
              "    <tr>\n",
              "      <th>Radio^2</th>\n",
              "      <td>0.000033</td>\n",
              "    </tr>\n",
              "    <tr>\n",
              "      <th>Radio&amp;newspaper</th>\n",
              "      <td>0.000146</td>\n",
              "    </tr>\n",
              "    <tr>\n",
              "      <th>Newspaper^2</th>\n",
              "      <td>-0.000030</td>\n",
              "    </tr>\n",
              "  </tbody>\n",
              "</table>\n",
              "</div>"
            ],
            "text/plain": [
              "                     coef\n",
              "TV               0.051710\n",
              "radio            0.013085\n",
              "newspaper        0.012000\n",
              "TV^2            -0.000111\n",
              "TV&Radio         0.001142\n",
              "TV&Newspaper    -0.000052\n",
              "Radio^2          0.000033\n",
              "Radio&newspaper  0.000146\n",
              "Newspaper^2     -0.000030"
            ]
          },
          "execution_count": 120,
          "metadata": {},
          "output_type": "execute_result"
        }
      ],
      "source": [
        "df_coef  #katsayılar tahminde 1 birim artışın tahminimde ne kadar artış olacağını söyler"
      ]
    },
    {
      "cell_type": "code",
      "execution_count": null,
      "id": "banned-transsexual",
      "metadata": {
        "id": "banned-transsexual",
        "outputId": "9c5e76f8-f8cf-4556-bff9-b1ae2dfefc2d"
      },
      "outputs": [
        {
          "data": {
            "text/plain": [
              "array([21.86190699])"
            ]
          },
          "execution_count": 121,
          "metadata": {},
          "output_type": "execute_result"
        }
      ],
      "source": [
        "model_poly.predict([[2.301000e+02, 3.780000e+01, 6.920000e+01, 5.294601e+04,\n",
        "       8.697780e+03, 1.592292e+04, 1.428840e+03, 2.615760e+03,\n",
        "       4.788640e+03]]) \n",
        "\n",
        "# "
      ]
    },
    {
      "cell_type": "markdown",
      "id": "intense-alberta",
      "metadata": {
        "id": "intense-alberta"
      },
      "source": [
        "## Evaluation on the Test Set"
      ]
    },
    {
      "cell_type": "code",
      "execution_count": null,
      "id": "sensitive-emphasis",
      "metadata": {
        "id": "sensitive-emphasis"
      },
      "outputs": [],
      "source": [
        "from sklearn.metrics import mean_absolute_error,mean_squared_error,r2_score"
      ]
    },
    {
      "cell_type": "code",
      "execution_count": null,
      "id": "brilliant-producer",
      "metadata": {
        "id": "brilliant-producer"
      },
      "outputs": [],
      "source": [
        "y_pred = model_poly.predict(X_test)"
      ]
    },
    {
      "cell_type": "code",
      "execution_count": null,
      "id": "sustainable-asian",
      "metadata": {
        "id": "sustainable-asian"
      },
      "outputs": [],
      "source": [
        "def eval_metric(actual, pred):\n",
        "    mae = mean_absolute_error(actual, pred)\n",
        "    mse = mean_squared_error(actual, pred)\n",
        "    rmse = np.sqrt(mean_squared_error(actual, pred))\n",
        "    R2_score = r2_score(actual, pred)\n",
        "    print(\"Model testing performance:\")\n",
        "    print(\"--------------------------\")\n",
        "    print(f\"R2_score \\t: {R2_score}\")\n",
        "    print(f\"MAE \\t\\t: {mae}\")\n",
        "    print(f\"MSE \\t\\t: {mse}\")\n",
        "    print(f\"RMSE \\t\\t: {rmse}\")"
      ]
    },
    {
      "cell_type": "code",
      "execution_count": null,
      "id": "gross-mixer",
      "metadata": {
        "id": "gross-mixer",
        "outputId": "5dc5c747-5298-477f-bb82-f23400a42377"
      },
      "outputs": [
        {
          "name": "stdout",
          "output_type": "stream",
          "text": [
            "Model testing performance:\n",
            "--------------------------\n",
            "R2_score \t: 0.9843529333146797\n",
            "MAE \t\t: 0.4896798044803558\n",
            "MSE \t\t: 0.44175055104033756\n",
            "RMSE \t\t: 0.664643175726899\n"
          ]
        }
      ],
      "source": [
        "eval_metric(y_test, y_pred)"
      ]
    },
    {
      "cell_type": "code",
      "execution_count": null,
      "id": "revolutionary-release",
      "metadata": {
        "id": "revolutionary-release"
      },
      "outputs": [],
      "source": [
        "y_train_pred = model_poly.predict(X_train)"
      ]
    },
    {
      "cell_type": "code",
      "execution_count": null,
      "id": "719d8613",
      "metadata": {
        "id": "719d8613"
      },
      "outputs": [],
      "source": [
        ""
      ]
    },
    {
      "cell_type": "code",
      "execution_count": null,
      "id": "available-minimum",
      "metadata": {
        "id": "available-minimum",
        "outputId": "ac605ed5-6b73-4917-e770-b51969e2b852"
      },
      "outputs": [
        {
          "name": "stdout",
          "output_type": "stream",
          "text": [
            "Model testing performance:\n",
            "--------------------------\n",
            "R2_score \t: 0.9868638137712757\n",
            "MAE \t\t: 0.4049248139151411\n",
            "MSE \t\t: 0.3456939142443997\n",
            "RMSE \t\t: 0.5879574085292231\n"
          ]
        }
      ],
      "source": [
        "eval_metric(y_train, y_train_pred)"
      ]
    },
    {
      "cell_type": "markdown",
      "id": "distant-subscription",
      "metadata": {
        "id": "distant-subscription"
      },
      "source": [
        "* Simple Linear Regression:\n",
        "    * MAE      : 1.213\n",
        "    * RMSE     : 1.516\n",
        "    * r2_score : 0.8609\n",
        "\n",
        "* Polynomial 2-degree:\n",
        "    * MAE      : 0.48\n",
        "    * RMSE     : 0.66\n",
        "    * r2_score : 0.9868"
      ]
    },
    {
      "cell_type": "markdown",
      "id": "referenced-lebanon",
      "metadata": {
        "id": "referenced-lebanon"
      },
      "source": [
        "## Let's find optimal degree of poly"
      ]
    },
    {
      "cell_type": "code",
      "execution_count": null,
      "id": "analyzed-generator",
      "metadata": {
        "id": "analyzed-generator"
      },
      "outputs": [],
      "source": [
        "def poly(d):\n",
        "    \n",
        "    train_rmse_errors = []\n",
        "    test_rmse_errors = []\n",
        "    number_of_features = []\n",
        "    \n",
        "    for i in range(1, d):\n",
        "        polynomial_converter = PolynomialFeatures(degree = i, include_bias =False)\n",
        "        poly_features = polynomial_converter.fit_transform(X)\n",
        "        \n",
        "        X_train, X_test, y_train, y_test = train_test_split(poly_features, y, test_size=0.3, random_state=101)\n",
        "        \n",
        "        model = LinearRegression(fit_intercept=True)\n",
        "        model.fit(X_train, y_train)\n",
        "        \n",
        "        train_pred = model.predict(X_train)\n",
        "        test_pred = model.predict(X_test)\n",
        "        \n",
        "        train_RMSE = np.sqrt(mean_squared_error(y_train,train_pred))\n",
        "        test_RMSE = np.sqrt(mean_squared_error(y_test,test_pred))\n",
        "        \n",
        "        train_rmse_errors.append(train_RMSE)\n",
        "        test_rmse_errors.append(test_RMSE)\n",
        "        \n",
        "        number_of_features.append(poly_features.shape[1])\n",
        "        \n",
        "    return pd.DataFrame({\"train_rmse_errors\": train_rmse_errors, \"test_rmse_errors\":test_rmse_errors, \"number of features\":number_of_features}, \n",
        "                        index=range(1,d))\n",
        "        "
      ]
    },
    {
      "cell_type": "code",
      "execution_count": null,
      "id": "simple-synthesis",
      "metadata": {
        "id": "simple-synthesis",
        "outputId": "9d3e4064-6a69-4863-90b4-0211e9a82a4d"
      },
      "outputs": [
        {
          "data": {
            "text/html": [
              "<div>\n",
              "<style scoped>\n",
              "    .dataframe tbody tr th:only-of-type {\n",
              "        vertical-align: middle;\n",
              "    }\n",
              "\n",
              "    .dataframe tbody tr th {\n",
              "        vertical-align: top;\n",
              "    }\n",
              "\n",
              "    .dataframe thead th {\n",
              "        text-align: right;\n",
              "    }\n",
              "</style>\n",
              "<table border=\"1\" class=\"dataframe\">\n",
              "  <thead>\n",
              "    <tr style=\"text-align: right;\">\n",
              "      <th></th>\n",
              "      <th>train_rmse_errors</th>\n",
              "      <th>test_rmse_errors</th>\n",
              "      <th>number of features</th>\n",
              "    </tr>\n",
              "  </thead>\n",
              "  <tbody>\n",
              "    <tr>\n",
              "      <th>1</th>\n",
              "      <td>1.734594</td>\n",
              "      <td>1.516152</td>\n",
              "      <td>3</td>\n",
              "    </tr>\n",
              "    <tr>\n",
              "      <th>2</th>\n",
              "      <td>0.587957</td>\n",
              "      <td>0.664643</td>\n",
              "      <td>9</td>\n",
              "    </tr>\n",
              "    <tr>\n",
              "      <th>3</th>\n",
              "      <td>0.433934</td>\n",
              "      <td>0.580329</td>\n",
              "      <td>19</td>\n",
              "    </tr>\n",
              "    <tr>\n",
              "      <th>4</th>\n",
              "      <td>0.351708</td>\n",
              "      <td>0.507774</td>\n",
              "      <td>34</td>\n",
              "    </tr>\n",
              "    <tr>\n",
              "      <th>5</th>\n",
              "      <td>0.250934</td>\n",
              "      <td>2.575806</td>\n",
              "      <td>55</td>\n",
              "    </tr>\n",
              "    <tr>\n",
              "      <th>6</th>\n",
              "      <td>0.200237</td>\n",
              "      <td>4.330890</td>\n",
              "      <td>83</td>\n",
              "    </tr>\n",
              "    <tr>\n",
              "      <th>7</th>\n",
              "      <td>5.258394</td>\n",
              "      <td>174.629823</td>\n",
              "      <td>119</td>\n",
              "    </tr>\n",
              "    <tr>\n",
              "      <th>8</th>\n",
              "      <td>0.206961</td>\n",
              "      <td>4679.504526</td>\n",
              "      <td>164</td>\n",
              "    </tr>\n",
              "    <tr>\n",
              "      <th>9</th>\n",
              "      <td>0.169572</td>\n",
              "      <td>95835.863407</td>\n",
              "      <td>219</td>\n",
              "    </tr>\n",
              "  </tbody>\n",
              "</table>\n",
              "</div>"
            ],
            "text/plain": [
              "   train_rmse_errors  test_rmse_errors  number of features\n",
              "1           1.734594          1.516152                   3\n",
              "2           0.587957          0.664643                   9\n",
              "3           0.433934          0.580329                  19\n",
              "4           0.351708          0.507774                  34\n",
              "5           0.250934          2.575806                  55\n",
              "6           0.200237          4.330890                  83\n",
              "7           5.258394        174.629823                 119\n",
              "8           0.206961       4679.504526                 164\n",
              "9           0.169572      95835.863407                 219"
            ]
          },
          "execution_count": 129,
          "metadata": {},
          "output_type": "execute_result"
        }
      ],
      "source": [
        "poly(10) # poly derecesi arttıkça eğitim rmse ve test rmse değerleri 0'a yaklaşıyor feature sayısıda artıyor.\n",
        "# 5.derecedn sora test değerlerim yukarı doğru tırmanıyor yani overfiting oluşuyor. test ile eğitim seti arasında uçurum varsa genelleme yapamayız. iki değerinde birbirine yakın olması gerekir.kesiştiği optimum nokta olması gerekir"
      ]
    },
    {
      "cell_type": "code",
      "execution_count": null,
      "id": "obvious-mobility",
      "metadata": {
        "id": "obvious-mobility",
        "outputId": "8a7e5f1c-a008-4593-f4fe-7ef068d33d07"
      },
      "outputs": [
        {
          "data": {
            "image/png": "[encoded data removed]",
            "text/plain": [
              "<Figure size 1000x600 with 1 Axes>"
            ]
          },
          "metadata": {},
          "output_type": "display_data"
        }
      ],
      "source": [
        "plt.plot(range(1,10), poly(10)[\"train_rmse_errors\"], label = \"TRAIN\")\n",
        "plt.plot(range(1,10), poly(10)[\"test_rmse_errors\"], label = \"TEST\")\n",
        "plt.xlabel(\"Polynamial Complex\")\n",
        "plt.ylabel(\"RMSE\")\n",
        "plt.legend();\n",
        "plt.show()\n",
        "\n",
        "# skorlar çok küçük 0' yakın olmadığı için net göremiyoruz"
      ]
    },
    {
      "cell_type": "code",
      "execution_count": null,
      "id": "southern-colonial",
      "metadata": {
        "scrolled": false,
        "id": "southern-colonial",
        "outputId": "75213a06-5f2a-48df-c336-da76d24220d2"
      },
      "outputs": [
        {
          "data": {
            "image/png": "[encoded data removed]",
            "text/plain": [
              "<Figure size 1000x600 with 1 Axes>"
            ]
          },
          "metadata": {},
          "output_type": "display_data"
        }
      ],
      "source": [
        "plt.plot(range(1,6), poly(6)[\"train_rmse_errors\"], label = \"TRAIN\")\n",
        "plt.plot(range(1,6), poly(6)[\"test_rmse_errors\"], label = \"TEST\")\n",
        "plt.xlabel(\"Polynamial Complex\")\n",
        "plt.ylabel(\"RMSE\")\n",
        "plt.legend();\n",
        "plt.show()\n",
        "# poly(6) vererek grafiği daha net görebiliyoruz. \n",
        "# en iyi dere 2 veya 3 olur, tırmanış derecesine yakın dereceleri tercih etmeyiz \n",
        "## bias : tamin edilen il gerçek değer arasundaki fark\n",
        "## varians : eğitim  ile test setindedeki skorların arasındaki fark\n"
      ]
    },
    {
      "cell_type": "markdown",
      "id": "continuing-patrick",
      "metadata": {
        "id": "continuing-patrick"
      },
      "source": [
        "## Finalizing Model Choice"
      ]
    },
    {
      "cell_type": "code",
      "execution_count": null,
      "id": "right-samuel",
      "metadata": {
        "id": "right-samuel"
      },
      "outputs": [],
      "source": [
        "final_poly_conv = PolynomialFeatures(degree = 3, include_bias=False )\n",
        "# 3. derece modelimizi alp eğiteceğiz "
      ]
    },
    {
      "cell_type": "code",
      "execution_count": null,
      "id": "matched-singapore",
      "metadata": {
        "id": "matched-singapore"
      },
      "outputs": [],
      "source": [
        "final_model = LinearRegression() # LR olarak final_model modelimi tanımlarız."
      ]
    },
    {
      "cell_type": "code",
      "execution_count": null,
      "id": "primary-regular",
      "metadata": {
        "id": "primary-regular",
        "outputId": "3cc027c5-315b-4f68-9809-2ba0da940ca2"
      },
      "outputs": [
        {
          "data": {
            "text/plain": [
              "LinearRegression()"
            ]
          },
          "execution_count": 134,
          "metadata": {},
          "output_type": "execute_result"
        }
      ],
      "source": [
        "final_model.fit(final_poly_conv.fit_transform(X), y)\n",
        "# modelimi fit ediyorum X yerine polynomialFeatures 3 derece modeli aldığım final_poly_conv değişkenin verip datanın hepsi (X)ile fit ediyoruz"
      ]
    },
    {
      "cell_type": "markdown",
      "id": "broadband-terrorist",
      "metadata": {
        "id": "broadband-terrorist"
      },
      "source": [
        "## Predictions"
      ]
    },
    {
      "cell_type": "code",
      "execution_count": null,
      "id": "coordinate-outdoors",
      "metadata": {
        "id": "coordinate-outdoors"
      },
      "outputs": [],
      "source": [
        "new_record = [[150, 20, 15]] # predict ederken kaç tane feature varsa o kadar değer vereceğiz"
      ]
    },
    {
      "cell_type": "code",
      "execution_count": null,
      "id": "varied-jonathan",
      "metadata": {
        "id": "varied-jonathan"
      },
      "outputs": [],
      "source": [
        "new_record_poly = final_poly_conv.fit_transform(new_record) #polynomialFeatures çevirmemeiz gerekir"
      ]
    },
    {
      "cell_type": "code",
      "execution_count": null,
      "id": "rocky-weapon",
      "metadata": {
        "id": "rocky-weapon",
        "outputId": "851b2fa4-1c91-4606-a1db-e0f05b4c4280"
      },
      "outputs": [
        {
          "data": {
            "text/plain": [
              "array([[1.500e+02, 2.000e+01, 1.500e+01, 2.250e+04, 3.000e+03, 2.250e+03,\n",
              "        4.000e+02, 3.000e+02, 2.250e+02, 3.375e+06, 4.500e+05, 3.375e+05,\n",
              "        6.000e+04, 4.500e+04, 3.375e+04, 8.000e+03, 6.000e+03, 4.500e+03,\n",
              "        3.375e+03]])"
            ]
          },
          "execution_count": 137,
          "metadata": {},
          "output_type": "execute_result"
        }
      ],
      "source": [
        "new_record_poly"
      ]
    },
    {
      "cell_type": "code",
      "execution_count": null,
      "id": "legitimate-example",
      "metadata": {
        "id": "legitimate-example",
        "outputId": "5187ab39-e004-4c3e-c932-bc8ca046246e"
      },
      "outputs": [
        {
          "data": {
            "text/plain": [
              "array([14.24950844])"
            ]
          },
          "execution_count": 138,
          "metadata": {},
          "output_type": "execute_result"
        }
      ],
      "source": [
        "final_model.predict(new_record_poly) "
      ]
    },
    {
      "cell_type": "markdown",
      "id": "sweet-document",
      "metadata": {
        "id": "sweet-document"
      },
      "source": [
        "## Overfitting"
      ]
    },
    {
      "cell_type": "code",
      "execution_count": null,
      "id": "micro-worship",
      "metadata": {
        "id": "micro-worship"
      },
      "outputs": [],
      "source": [
        "over_poly_converter = PolynomialFeatures(degree =5, include_bias =False)"
      ]
    },
    {
      "cell_type": "code",
      "execution_count": null,
      "id": "therapeutic-father",
      "metadata": {
        "id": "therapeutic-father"
      },
      "outputs": [],
      "source": [
        "over_model = LinearRegression()"
      ]
    },
    {
      "cell_type": "code",
      "execution_count": null,
      "id": "little-video",
      "metadata": {
        "id": "little-video"
      },
      "outputs": [],
      "source": [
        "X_train, X_test, y_train, y_test = train_test_split(over_poly_converter.fit_transform(X), y, test_size=0.3, random_state=101)"
      ]
    },
    {
      "cell_type": "code",
      "execution_count": null,
      "id": "precious-lighter",
      "metadata": {
        "id": "precious-lighter",
        "outputId": "9795d122-49ff-46d4-bb15-7208c1da3d9f"
      },
      "outputs": [
        {
          "data": {
            "text/plain": [
              "LinearRegression()"
            ]
          },
          "execution_count": 142,
          "metadata": {},
          "output_type": "execute_result"
        }
      ],
      "source": [
        "over_model.fit(X_train, y_train)"
      ]
    },
    {
      "cell_type": "code",
      "execution_count": null,
      "id": "referenced-pride",
      "metadata": {
        "id": "referenced-pride"
      },
      "outputs": [],
      "source": [
        "y_pred_over = over_model.predict(X_test)"
      ]
    },
    {
      "cell_type": "code",
      "execution_count": null,
      "id": "signal-winner",
      "metadata": {
        "id": "signal-winner",
        "outputId": "5ae14f8b-87fc-4be4-ce9f-95f6ac943ea6"
      },
      "outputs": [
        {
          "name": "stdout",
          "output_type": "stream",
          "text": [
            "Model testing performance:\n",
            "--------------------------\n",
            "R2_score \t: 0.7649922461622752\n",
            "MAE \t\t: 0.6659572480475026\n",
            "MSE \t\t: 6.6347774215063\n",
            "RMSE \t\t: 2.575806169242224\n"
          ]
        }
      ],
      "source": [
        "eval_metric(y_test, y_pred_over)"
      ]
    },
    {
      "cell_type": "code",
      "execution_count": null,
      "id": "adapted-accident",
      "metadata": {
        "id": "adapted-accident"
      },
      "outputs": [],
      "source": [
        "y_train_over = over_model.predict(X_train)"
      ]
    },
    {
      "cell_type": "code",
      "execution_count": null,
      "id": "floral-inside",
      "metadata": {
        "id": "floral-inside",
        "outputId": "8af29ade-6d69-435c-d389-62de174fcd19"
      },
      "outputs": [
        {
          "name": "stdout",
          "output_type": "stream",
          "text": [
            "Model testing performance:\n",
            "--------------------------\n",
            "R2_score \t: 0.997607248305946\n",
            "MAE \t\t: 0.18620694243027788\n",
            "MSE \t\t: 0.0629680247013947\n",
            "RMSE \t\t: 0.25093430355651797\n"
          ]
        }
      ],
      "source": [
        "eval_metric(y_train, y_train_over)  "
      ]
    },
    {
      "cell_type": "markdown",
      "id": "5b8ca809",
      "metadata": {
        "id": "5b8ca809"
      },
      "source": [
        "## Underfitting"
      ]
    },
    {
      "cell_type": "raw",
      "id": "d0e4cc7c",
      "metadata": {
        "id": "d0e4cc7c"
      },
      "source": [
        "Testing data performance:\n",
        "--------------------------\n",
        "R2_score \t: 0.8609466508230367\n",
        "MAE \t\t: 1.5116692224549084\n",
        "MSE \t\t: 3.796797236715222\n",
        "RMSE \t\t: 1.9485372043446392"
      ]
    },
    {
      "cell_type": "raw",
      "id": "2d0381ca",
      "metadata": {
        "id": "2d0381ca"
      },
      "source": [
        "Training data performance:\n",
        "--------------------------\n",
        "R2_score \t: 0.9055159502227753\n",
        "MAE \t\t: 1.1581502948072524\n",
        "MSE \t\t: 2.4793551789057866\n",
        "RMSE \t\t: 1.574596830590544"
      ]
    },
    {
      "cell_type": "code",
      "execution_count": null,
      "id": "cd5de433",
      "metadata": {
        "id": "cd5de433"
      },
      "outputs": [],
      "source": [
        ""
      ]
    }
  ],
  "metadata": {
    "kernelspec": {
      "display_name": "Python 3",
      "language": "python",
      "name": "python3"
    },
    "language_info": {
      "codemirror_mode": {
        "name": "ipython",
        "version": 3
      },
      "file_extension": ".py",
      "mimetype": "text/x-python",
      "name": "python",
      "nbconvert_exporter": "python",
      "pygments_lexer": "ipython3",
      "version": "3.8.8"
    },
    "colab": {
      "name": "3_ML_Poly Regression-Overfiting-Underfiting.ipynb",
      "provenance": [],
      "include_colab_link": true
    }
  },
  "nbformat": 4,
  "nbformat_minor": 5
}